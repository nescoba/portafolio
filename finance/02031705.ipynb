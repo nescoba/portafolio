{
  "cells": [
    {
      "cell_type": "markdown",
      "metadata": {
        "colab_type": "text",
        "id": "view-in-github"
      },
      "source": [
        "<a href=\"https://colab.research.google.com/github/nescoba/portafolio/blob/main/02031705.ipynb\" target=\"_parent\"><img src=\"https://colab.research.google.com/assets/colab-badge.svg\" alt=\"Open In Colab\"/></a>"
      ]
    },
    {
      "cell_type": "markdown",
      "metadata": {
        "id": "foDYrnJ4nJvH"
      },
      "source": [
        "# Finantial Data"
      ]
    },
    {
      "cell_type": "code",
      "execution_count": 2,
      "metadata": {
        "id": "DY_kNl_ynyaJ"
      },
      "outputs": [],
      "source": [
        "import numpy as np\n",
        "import pandas as pd\n",
        "import matplotlib.pyplot as plt\n",
        "import seaborn as sns\n",
        "\n",
        "%matplotlib inline\n",
        "\n",
        "sns.set()"
      ]
    },
    {
      "cell_type": "markdown",
      "metadata": {
        "id": "2rnC_sJqnHOv"
      },
      "source": [
        "## Data Wrangling"
      ]
    },
    {
      "cell_type": "code",
      "execution_count": 4,
      "metadata": {
        "colab": {
          "base_uri": "https://localhost:8080/"
        },
        "id": "LWuDfRFzoKm0",
        "outputId": "442b0573-411a-4e04-8b43-a19e756ab178"
      },
      "outputs": [
        {
          "data": {
            "text/plain": [
              "(22077, 226)"
            ]
          },
          "execution_count": 4,
          "metadata": {},
          "output_type": "execute_result"
        }
      ],
      "source": [
        "dfs = []\n",
        "for year in range(2014, 2019):\n",
        "  dfs.append(pd.read_csv(f'{year}_Financial_Data.csv'))\n",
        "  dfs[year - 2014]['Year'] = year\n",
        "  dfs[year - 2014]['Price Var'] = dfs[year - 2014][f'{year+1} PRICE VAR [%]']\n",
        "  dfs[year - 2014].drop(f'{year+1} PRICE VAR [%]', axis=1, inplace=True)\n",
        "\n",
        "df = dfs[0]\n",
        "for year in range(2015, 2019):\n",
        "  df = pd.merge(df, dfs[year - 2014], how='outer')\n",
        "\n",
        "df.shape"
      ]
    },
    {
      "cell_type": "code",
      "execution_count": 5,
      "metadata": {
        "id": "mL4GrXGPplRU"
      },
      "outputs": [],
      "source": [
        "from sklearn.base import BaseEstimator, TransformerMixin\n",
        "from sklearn.pipeline import Pipeline\n",
        "from sklearn.preprocessing import OneHotEncoder\n",
        "from sklearn.preprocessing import StandardScaler\n",
        "\n",
        "class ColumnDropper(BaseEstimator, TransformerMixin):\n",
        "  def __init__(self, dropped_cols, format=True):\n",
        "    self.format = format\n",
        "    self.dropped_cols = dropped_cols\n",
        "\n",
        "  def fit(self, X, y=None):\n",
        "    return self\n",
        "\n",
        "  def transform(self, X):\n",
        "    if self.format:\n",
        "      return X.drop(self.dropped_cols, axis=1)\n",
        "\n",
        "    else:\n",
        "      return X\n",
        "\n",
        "\n",
        "class NaFiller(BaseEstimator, TransformerMixin):\n",
        "  def __init__(self, filled_cols, grouper, format=True):\n",
        "    self.format = format\n",
        "    self.filled_cols = filled_cols\n",
        "    self.grouper = grouper\n",
        "\n",
        "  def fit(self, X, y=None):\n",
        "    return self\n",
        "\n",
        "  def transform(self, X):\n",
        "    if self.format:\n",
        "      # for column in self.filled_cols:\n",
        "      #   for value in pd.unique(X[self.grouper]):\n",
        "      #     mask = (X[column].isnull()) & (X[self.grouper]==value)\n",
        "      #     X.loc[mask, column] = np.mean(X.loc[(X[column].notnull()) & (X[self.grouper]==value), column])\n",
        "      for column in self.filled_cols:\n",
        "        X.loc[X[column].isnull(), column] = X[column].mean()\n",
        "    return X\n",
        "\n",
        "\n",
        "class Encoder(BaseEstimator, TransformerMixin):\n",
        "  def __init__(self, cols, format=True):\n",
        "    self.format = format\n",
        "    self.cols = cols\n",
        "    \n",
        "  def fit(self, X, y=None):\n",
        "    return self\n",
        "\n",
        "  def transform(self, X):\n",
        "    if self.format:\n",
        "      for column in self.cols:\n",
        "        matrix = OneHotEncoder(sparse=False).fit_transform(X[column].array.reshape(-1,1))\n",
        "        columns = [f'{column}_{i}' for i in range(matrix.shape[1])]\n",
        "        df = pd.DataFrame(matrix, columns = columns)\n",
        "        X.drop(column, axis=1, inplace=True)\n",
        "        return pd.concat([X, df], axis=1)\n",
        "    else:\n",
        "      return X\n",
        "\n",
        "\n",
        "class Scaler(BaseEstimator, TransformerMixin):\n",
        "  def __init__(self, cols, format=True):\n",
        "    self.format = format\n",
        "    self.cols = cols\n",
        "    \n",
        "  def fit(self, X, y=None):\n",
        "    return self\n",
        "\n",
        "  def transform(self, X):\n",
        "    if self.format:\n",
        "      for column in self.cols:\n",
        "        # scaled_column = StandardScaler().fit_transform(X[column].array.reshape(-1,1))\n",
        "        # df = pd.DataFrame(scaled_column, columns=[f'scaled_{column}'])\n",
        "        # X.drop(column, axis=1, inplace=True)\n",
        "        #return pd.concat([X, df], axis=1)\n",
        "        sigma = np.std(X[column])\n",
        "        if sigma != 0:\n",
        "          X[f'scaled_{column}'] = (X[column] - X[column].mean())/np.std(X[column])\n",
        "          X.drop(column, axis=1, inplace=True)\n",
        "        else:\n",
        "          X[column] = 0\n",
        "  \n",
        "    return X\n",
        "\n"
      ]
    },
    {
      "cell_type": "code",
      "execution_count": 6,
      "metadata": {
        "colab": {
          "base_uri": "https://localhost:8080/"
        },
        "id": "MBUNf-DPwWsO",
        "outputId": "caee54fe-4b4d-461f-f65e-afa9d532b0fd"
      },
      "outputs": [
        {
          "data": {
            "text/plain": [
              "(22077, 233)"
            ]
          },
          "execution_count": 6,
          "metadata": {},
          "output_type": "execute_result"
        }
      ],
      "source": [
        "dropped_cols = ['Unnamed: 0', 'Price Var', 'Class']\n",
        "num_columns = list(df.columns.copy())\n",
        "non_num = ['Unnamed: 0', 'Price Var', 'Class', 'Sector']\n",
        "for col in non_num:\n",
        "  num_columns.remove(col)\n",
        "\n",
        "y = df['Class']\n",
        "pipeline = Pipeline([('col_dropper', ColumnDropper(dropped_cols, format =True)),\n",
        "                     ('na_filler', NaFiller(num_columns, 'Sector', format=True)), \n",
        "                     ('scaler', Scaler(num_columns, format=True)), \n",
        "                     ('encoder', Encoder(['Sector'], format=True))])\n",
        "\n",
        "X = pipeline.fit_transform(df)\n",
        "\n",
        "X.shape\n"
      ]
    },
    {
      "cell_type": "code",
      "execution_count": 7,
      "metadata": {
        "colab": {
          "base_uri": "https://localhost:8080/"
        },
        "id": "HRKVitse5ux9",
        "outputId": "df2531c1-00ca-415d-efab-c0651f6cf1f9"
      },
      "outputs": [
        {
          "data": {
            "text/plain": [
              "(22077, 233)"
            ]
          },
          "execution_count": 7,
          "metadata": {},
          "output_type": "execute_result"
        }
      ],
      "source": [
        "X.dropna().shape"
      ]
    },
    {
      "cell_type": "code",
      "execution_count": 8,
      "metadata": {
        "id": "JJYbeGzU9dEO"
      },
      "outputs": [],
      "source": [
        "from sklearn.model_selection import train_test_split\n",
        "X_train, X_test, y_train, y_test = train_test_split(X,y, random_state=0, train_size=0.2)"
      ]
    },
    {
      "cell_type": "code",
      "execution_count": 9,
      "metadata": {
        "id": "AFvu6uimnDZK"
      },
      "outputs": [],
      "source": [
        "X_train, X_val, y_train, y_val = train_test_split(X_train, y_train,  random_state=0, train_size=0.2)"
      ]
    },
    {
      "cell_type": "markdown",
      "metadata": {},
      "source": [
        "### Defining function to evaluate classiffiers "
      ]
    },
    {
      "cell_type": "code",
      "execution_count": 10,
      "metadata": {
        "id": "iGW0Qi8-oeA-"
      },
      "outputs": [],
      "source": [
        "from sklearn.metrics import accuracy_score\n",
        "from sklearn.metrics import f1_score\n",
        "from sklearn.metrics import recall_score\n",
        "from sklearn.metrics import precision_score\n",
        "\n",
        "def eval_clf(clf):\n",
        "  y_val_pred = clf.predict(X_val)\n",
        "  scores = [accuracy_score(y_val, y_val_pred), f1_score(y_val, y_val_pred), \n",
        "            recall_score(y_val, y_val_pred), precision_score(y_val, y_val_pred)]\n",
        "  names = ['accuracy', 'f1', 'recall', 'precision']\n",
        "  return pd.Series(scores, index=names)\n"
      ]
    },
    {
      "cell_type": "markdown",
      "metadata": {},
      "source": [
        "## Model Training "
      ]
    },
    {
      "cell_type": "markdown",
      "metadata": {},
      "source": [
        "### Logistic Regression"
      ]
    },
    {
      "cell_type": "code",
      "execution_count": 16,
      "metadata": {
        "colab": {
          "base_uri": "https://localhost:8080/"
        },
        "id": "i4e6dMfWqgT1",
        "outputId": "af453442-83d6-4f02-cfde-4c845e42228c"
      },
      "outputs": [
        {
          "data": {
            "text/plain": [
              "{'C': 1e-08}"
            ]
          },
          "execution_count": 16,
          "metadata": {},
          "output_type": "execute_result"
        }
      ],
      "source": [
        "from sklearn.linear_model import LogisticRegression\n",
        "from sklearn.model_selection import GridSearchCV\n",
        "\n",
        "param_grid = {'C':[0.00000001, 0.0000001, .00001, 0.0001]}\n",
        "log_reg = LogisticRegression()\n",
        "grid_log_reg = GridSearchCV(log_reg, param_grid, scoring='f1')\n",
        "grid_log_reg.fit(X_train, y_train)\n",
        "grid_log_reg.best_params_\n"
      ]
    },
    {
      "cell_type": "code",
      "execution_count": 17,
      "metadata": {
        "colab": {
          "base_uri": "https://localhost:8080/"
        },
        "id": "FLZzcXwatlEO",
        "outputId": "bf1a057b-069f-47f1-9868-e4a570ea5c41"
      },
      "outputs": [
        {
          "data": {
            "text/plain": [
              "accuracy     0.559740\n",
              "f1           0.717735\n",
              "recall       1.000000\n",
              "precision    0.559740\n",
              "dtype: float64"
            ]
          },
          "execution_count": 17,
          "metadata": {},
          "output_type": "execute_result"
        }
      ],
      "source": [
        "eval_clf(grid_log_reg.best_estimator_)"
      ]
    },
    {
      "cell_type": "markdown",
      "metadata": {},
      "source": [
        "### Support Vector Machines "
      ]
    },
    {
      "cell_type": "code",
      "execution_count": 19,
      "metadata": {
        "colab": {
          "base_uri": "https://localhost:8080/"
        },
        "id": "KRaHkxE7Zii7",
        "outputId": "e74ae122-8d53-469d-cb7e-3b8db14863fb"
      },
      "outputs": [
        {
          "data": {
            "text/plain": [
              "{'C': 10, 'gamma': 1, 'kernel': 'rbf'}"
            ]
          },
          "execution_count": 19,
          "metadata": {},
          "output_type": "execute_result"
        }
      ],
      "source": [
        "from sklearn.svm import SVC \n",
        "\n",
        "param_grid = [{'kernel': ['poly'], 'degree': [3,4,5], 'C': [0.001, 0.01, 0.1, 1, 10, 100]}, \n",
        "              {'kernel': ['rbf'], 'C': [0.001, 0.01, 0.1, 1, 10, 100], 'gamma':[0.001, 0.01, 0.1, 1, 10, 100]}]\n",
        "svm = SVC()\n",
        "grid_svm = GridSearchCV(svm, param_grid, scoring='f1')\n",
        "grid_svm.fit(X_train, y_train)\n",
        "grid_svm.best_params_"
      ]
    },
    {
      "cell_type": "code",
      "execution_count": 20,
      "metadata": {
        "colab": {
          "base_uri": "https://localhost:8080/"
        },
        "id": "0BJno0tic-o8",
        "outputId": "189ad242-1d35-40d5-8ce1-70280c31d733"
      },
      "outputs": [
        {
          "data": {
            "text/plain": [
              "accuracy     0.578709\n",
              "f1           0.712852\n",
              "recall       0.934244\n",
              "precision    0.576287\n",
              "dtype: float64"
            ]
          },
          "execution_count": 20,
          "metadata": {},
          "output_type": "execute_result"
        }
      ],
      "source": [
        "eval_clf(grid_svm.best_estimator_)"
      ]
    },
    {
      "cell_type": "markdown",
      "metadata": {},
      "source": [
        "### Random Forest "
      ]
    },
    {
      "cell_type": "code",
      "execution_count": 21,
      "metadata": {
        "colab": {
          "base_uri": "https://localhost:8080/"
        },
        "id": "lXZac5zsdclE",
        "outputId": "1d9313d4-fa27-4045-811b-39182b533860"
      },
      "outputs": [
        {
          "name": "stderr",
          "output_type": "stream",
          "text": [
            "/usr/local/lib/python3.7/dist-packages/sklearn/model_selection/_validation.py:372: FitFailedWarning: \n",
            "25 fits failed out of a total of 125.\n",
            "The score on these train-test partitions for these parameters will be set to nan.\n",
            "If these failures are not expected, you can try to debug them by setting error_score='raise'.\n",
            "\n",
            "Below are more details about the failures:\n",
            "--------------------------------------------------------------------------------\n",
            "25 fits failed with the following error:\n",
            "Traceback (most recent call last):\n",
            "  File \"/usr/local/lib/python3.7/dist-packages/sklearn/model_selection/_validation.py\", line 680, in _fit_and_score\n",
            "    estimator.fit(X_train, y_train, **fit_params)\n",
            "  File \"/usr/local/lib/python3.7/dist-packages/sklearn/ensemble/_forest.py\", line 467, in fit\n",
            "    for i, t in enumerate(trees)\n",
            "  File \"/usr/local/lib/python3.7/dist-packages/joblib/parallel.py\", line 1043, in __call__\n",
            "    if self.dispatch_one_batch(iterator):\n",
            "  File \"/usr/local/lib/python3.7/dist-packages/joblib/parallel.py\", line 861, in dispatch_one_batch\n",
            "    self._dispatch(tasks)\n",
            "  File \"/usr/local/lib/python3.7/dist-packages/joblib/parallel.py\", line 779, in _dispatch\n",
            "    job = self._backend.apply_async(batch, callback=cb)\n",
            "  File \"/usr/local/lib/python3.7/dist-packages/joblib/_parallel_backends.py\", line 208, in apply_async\n",
            "    result = ImmediateResult(func)\n",
            "  File \"/usr/local/lib/python3.7/dist-packages/joblib/_parallel_backends.py\", line 572, in __init__\n",
            "    self.results = batch()\n",
            "  File \"/usr/local/lib/python3.7/dist-packages/joblib/parallel.py\", line 263, in __call__\n",
            "    for func, args, kwargs in self.items]\n",
            "  File \"/usr/local/lib/python3.7/dist-packages/joblib/parallel.py\", line 263, in <listcomp>\n",
            "    for func, args, kwargs in self.items]\n",
            "  File \"/usr/local/lib/python3.7/dist-packages/sklearn/utils/fixes.py\", line 216, in __call__\n",
            "    return self.function(*args, **kwargs)\n",
            "  File \"/usr/local/lib/python3.7/dist-packages/sklearn/ensemble/_forest.py\", line 185, in _parallel_build_trees\n",
            "    tree.fit(X, y, sample_weight=curr_sample_weight, check_input=False)\n",
            "  File \"/usr/local/lib/python3.7/dist-packages/sklearn/tree/_classes.py\", line 942, in fit\n",
            "    X_idx_sorted=X_idx_sorted,\n",
            "  File \"/usr/local/lib/python3.7/dist-packages/sklearn/tree/_classes.py\", line 316, in fit\n",
            "    max_leaf_nodes\n",
            "ValueError: max_leaf_nodes 1 must be either None or larger than 1\n",
            "\n",
            "  warnings.warn(some_fits_failed_message, FitFailedWarning)\n",
            "/usr/local/lib/python3.7/dist-packages/sklearn/model_selection/_search.py:972: UserWarning: One or more of the test scores are non-finite: [       nan        nan        nan        nan        nan 0.69897819\n",
            " 0.69597442 0.69091821 0.68966628 0.6903437  0.67350762 0.68961541\n",
            " 0.68112244 0.68782521 0.68175296 0.67707262 0.68310449 0.6785788\n",
            " 0.67860008 0.68210682 0.68180728 0.68115814 0.68346962 0.68222467\n",
            " 0.67774369]\n",
            "  category=UserWarning,\n"
          ]
        },
        {
          "data": {
            "text/plain": [
              "{'max_leaf_nodes': 10, 'n_estimators': 100}"
            ]
          },
          "execution_count": 21,
          "metadata": {},
          "output_type": "execute_result"
        }
      ],
      "source": [
        "from sklearn.ensemble import RandomForestClassifier\n",
        "\n",
        "param_grid = {'n_estimators': [100, 200, 300, 500, 1000], \n",
        "              'max_leaf_nodes':[1, 10, 20, 30, 50]}\n",
        "forest = RandomForestClassifier()\n",
        "grid_forest = GridSearchCV(forest, param_grid, scoring='f1')\n",
        "grid_forest.fit(X_train, y_train)\n",
        "grid_forest.best_params_"
      ]
    },
    {
      "cell_type": "code",
      "execution_count": 22,
      "metadata": {
        "colab": {
          "base_uri": "https://localhost:8080/"
        },
        "id": "VcaXb59Bfj22",
        "outputId": "b31b32a3-3afb-4fef-8e94-5b699b0287b3"
      },
      "outputs": [
        {
          "data": {
            "text/plain": [
              "accuracy     0.620045\n",
              "f1           0.700446\n",
              "recall       0.793627\n",
              "precision    0.626848\n",
              "dtype: float64"
            ]
          },
          "execution_count": 22,
          "metadata": {},
          "output_type": "execute_result"
        }
      ],
      "source": [
        "eval_clf(grid_forest.best_estimator_)"
      ]
    },
    {
      "cell_type": "code",
      "execution_count": null,
      "metadata": {
        "id": "b9WOqNFIf4Md"
      },
      "outputs": [],
      "source": []
    }
  ],
  "metadata": {
    "colab": {
      "authorship_tag": "ABX9TyPHSNR6sbYezzEJDMV5N9Da",
      "collapsed_sections": [],
      "include_colab_link": true,
      "name": "02031705.ipynb",
      "provenance": []
    },
    "kernelspec": {
      "display_name": "Python 3",
      "name": "python3"
    },
    "language_info": {
      "name": "python"
    }
  },
  "nbformat": 4,
  "nbformat_minor": 0
}
