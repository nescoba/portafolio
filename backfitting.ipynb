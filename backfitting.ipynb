{
  "cells": [
    {
      "cell_type": "markdown",
      "metadata": {
        "id": "view-in-github",
        "colab_type": "text"
      },
      "source": [
        "<a href=\"https://colab.research.google.com/github/nescoba/portafolio/blob/main/backfitting.ipynb\" target=\"_parent\"><img src=\"https://colab.research.google.com/assets/colab-badge.svg\" alt=\"Open In Colab\"/></a>"
      ]
    },
    {
      "cell_type": "code",
      "execution_count": null,
      "metadata": {
        "colab": {
          "base_uri": "https://localhost:8080/"
        },
        "id": "JuKo0fgxAjVh",
        "outputId": "ca52c4f3-6faf-48b2-972c-014af13754b7"
      },
      "outputs": [
        {
          "name": "stdout",
          "output_type": "stream",
          "text": [
            "Collecting itscalledsoccer\n",
            "  Downloading itscalledsoccer-0.1.4-py3-none-any.whl (9.8 kB)\n",
            "Collecting pandas==1.3.1\n",
            "  Downloading pandas-1.3.1-cp37-cp37m-manylinux_2_17_x86_64.manylinux2014_x86_64.whl (11.5 MB)\n",
            "\u001b[K     |████████████████████████████████| 11.5 MB 11.0 MB/s \n",
            "\u001b[?25hCollecting rapidfuzz==1.9.1\n",
            "  Downloading rapidfuzz-1.9.1-cp37-cp37m-manylinux_2_12_x86_64.manylinux2010_x86_64.whl (893 kB)\n",
            "\u001b[K     |████████████████████████████████| 893 kB 61.0 MB/s \n",
            "\u001b[?25hCollecting CacheControl==0.12.6\n",
            "  Downloading CacheControl-0.12.6-py2.py3-none-any.whl (19 kB)\n",
            "Collecting requests==2.25.1\n",
            "  Downloading requests-2.25.1-py2.py3-none-any.whl (61 kB)\n",
            "\u001b[K     |████████████████████████████████| 61 kB 7.9 MB/s \n",
            "\u001b[?25hRequirement already satisfied: msgpack>=0.5.2 in /usr/local/lib/python3.7/dist-packages (from CacheControl==0.12.6->itscalledsoccer) (1.0.3)\n",
            "Requirement already satisfied: pytz>=2017.3 in /usr/local/lib/python3.7/dist-packages (from pandas==1.3.1->itscalledsoccer) (2018.9)\n",
            "Requirement already satisfied: numpy>=1.17.3 in /usr/local/lib/python3.7/dist-packages (from pandas==1.3.1->itscalledsoccer) (1.21.5)\n",
            "Requirement already satisfied: python-dateutil>=2.7.3 in /usr/local/lib/python3.7/dist-packages (from pandas==1.3.1->itscalledsoccer) (2.8.2)\n",
            "Requirement already satisfied: chardet<5,>=3.0.2 in /usr/local/lib/python3.7/dist-packages (from requests==2.25.1->itscalledsoccer) (3.0.4)\n",
            "Requirement already satisfied: urllib3<1.27,>=1.21.1 in /usr/local/lib/python3.7/dist-packages (from requests==2.25.1->itscalledsoccer) (1.24.3)\n",
            "Requirement already satisfied: certifi>=2017.4.17 in /usr/local/lib/python3.7/dist-packages (from requests==2.25.1->itscalledsoccer) (2021.10.8)\n",
            "Requirement already satisfied: idna<3,>=2.5 in /usr/local/lib/python3.7/dist-packages (from requests==2.25.1->itscalledsoccer) (2.10)\n",
            "Requirement already satisfied: six>=1.5 in /usr/local/lib/python3.7/dist-packages (from python-dateutil>=2.7.3->pandas==1.3.1->itscalledsoccer) (1.15.0)\n",
            "Installing collected packages: requests, rapidfuzz, pandas, CacheControl, itscalledsoccer\n",
            "  Attempting uninstall: requests\n",
            "    Found existing installation: requests 2.23.0\n",
            "    Uninstalling requests-2.23.0:\n",
            "      Successfully uninstalled requests-2.23.0\n",
            "  Attempting uninstall: pandas\n",
            "    Found existing installation: pandas 1.3.5\n",
            "    Uninstalling pandas-1.3.5:\n",
            "      Successfully uninstalled pandas-1.3.5\n",
            "  Attempting uninstall: CacheControl\n",
            "    Found existing installation: CacheControl 0.12.10\n",
            "    Uninstalling CacheControl-0.12.10:\n",
            "      Successfully uninstalled CacheControl-0.12.10\n",
            "\u001b[31mERROR: pip's dependency resolver does not currently take into account all the packages that are installed. This behaviour is the source of the following dependency conflicts.\n",
            "google-colab 1.0.0 requires requests~=2.23.0, but you have requests 2.25.1 which is incompatible.\n",
            "datascience 0.10.6 requires folium==0.2.1, but you have folium 0.8.3 which is incompatible.\u001b[0m\n",
            "Successfully installed CacheControl-0.12.6 itscalledsoccer-0.1.4 pandas-1.3.1 rapidfuzz-1.9.1 requests-2.25.1\n"
          ]
        }
      ],
      "source": [
        "# pip install itscalledsoccer"
      ]
    },
    {
      "cell_type": "code",
      "execution_count": null,
      "metadata": {
        "id": "iFhOxFW7Aog4"
      },
      "outputs": [],
      "source": [
        "import numpy as np\n",
        "import pandas as pd\n",
        "import matplotlib.pyplot as plt\n",
        "import seaborn as sns\n",
        "\n",
        "%matplotlib inline \n",
        "sns.set()"
      ]
    },
    {
      "cell_type": "code",
      "execution_count": null,
      "metadata": {
        "colab": {
          "base_uri": "https://localhost:8080/"
        },
        "id": "NA3SblrNAtuX",
        "outputId": "46d99c0a-dc2d-4e3b-cacd-1945ebcf0936"
      },
      "outputs": [
        {
          "name": "stderr",
          "output_type": "stream",
          "text": [
            "/usr/local/lib/python3.7/dist-packages/statsmodels/tools/_testing.py:19: FutureWarning: pandas.util.testing is deprecated. Use the functions in the public API at pandas.testing instead.\n",
            "  import pandas.util.testing as tm\n"
          ]
        }
      ],
      "source": [
        "import statsmodels.api as sm"
      ]
    },
    {
      "cell_type": "code",
      "execution_count": null,
      "metadata": {
        "colab": {
          "base_uri": "https://localhost:8080/"
        },
        "id": "sP2DTsXrBVgq",
        "outputId": "3ee87a85-4621-4817-adfe-6f50d2d6bd6c"
      },
      "outputs": [
        {
          "name": "stdout",
          "output_type": "stream",
          "text": [
            "Gathering all players\n",
            "Gathering all teams\n",
            "Gathering all stadia\n",
            "Gathering all managers\n",
            "Gathering all referees\n",
            "Finished initializing client\n"
          ]
        }
      ],
      "source": [
        "from itscalledsoccer.client import AmericanSoccerAnalysis\n",
        "\n",
        "asa_client = AmericanSoccerAnalysis() "
      ]
    },
    {
      "cell_type": "code",
      "execution_count": null,
      "metadata": {
        "id": "PTdnvNHQAvZG"
      },
      "outputs": [],
      "source": [
        "def construct_time_series_date(team_id, date):\n",
        "    seasons = asa_client.get_game_xgoals(leagues='mls')\n",
        "    seasons.loc[:, 'date_formated'] = pd.to_datetime(seasons['date_time_utc'])\n",
        "    seasons = seasons[seasons['date_formated'] < date]\n",
        "\n",
        "    seasons_team = seasons[(seasons['home_team_id']==team_id) | (seasons['away_team_id']==team_id)]\n",
        "    team_home = seasons_team[seasons_team['home_team_id']==team_id]\n",
        "    team_away = seasons_team[seasons_team['away_team_id']==team_id]\n",
        "\n",
        "    team_home.loc[:,'teamxgoals'] = team_home['home_team_xgoals']\n",
        "    team_away.loc[:,'teamxgoals'] = team_away['away_team_xgoals']\n",
        "\n",
        "    team_home.loc[:,'teamgoals'] = team_home['home_goals']\n",
        "    team_away.loc[:,'teamgoals'] = team_away['away_goals']\n",
        "\n",
        "    team_home.loc[:,'oppoxgoals'] = team_home['away_team_xgoals']\n",
        "    team_away.loc[:,'oppoxgoals'] = team_away['home_team_xgoals']\n",
        "\n",
        "    team_home.loc[:,'oppogoals'] = team_home['away_goals']\n",
        "    team_away.loc[:,'oppogoals'] = team_away['home_goals']\n",
        "\n",
        "    team_home_red = team_home.loc[:, ['teamgoals', 'teamxgoals', 'oppoxgoals', 'oppogoals', 'date_formated']]\n",
        "    team_away_red = team_away.loc[:, ['teamgoals', 'teamxgoals', 'oppoxgoals', 'oppogoals', 'date_formated']]\n",
        "\n",
        "    team_red = pd.merge(team_home_red, team_away_red, how='outer')\n",
        "\n",
        "    team_red = team_red.sort_values(by='date_formated')\n",
        "\n",
        "    return team_red"
      ]
    },
    {
      "cell_type": "code",
      "execution_count": null,
      "metadata": {
        "id": "EcSiUMNyBJoE"
      },
      "outputs": [],
      "source": [
        "def normal_with_nans(mean, sd):\n",
        "    try:\n",
        "        return np.random.normal(mean, sd)\n",
        "    except:\n",
        "        return np.nan\n",
        "\n",
        "def poisson_with_nans(mean):\n",
        "    try:\n",
        "        return np.random.poisson(mean)\n",
        "    except:\n",
        "        return 0"
      ]
    },
    {
      "cell_type": "code",
      "execution_count": null,
      "metadata": {
        "id": "DyuhWnDVAyuH"
      },
      "outputs": [],
      "source": [
        "def probs_game(homeid, awayid, date):\n",
        "\n",
        "    homedf = construct_time_series_date(homeid, date)\n",
        "    awaydf = construct_time_series_date(awayid, date)\n",
        "\n",
        "\n",
        "\n",
        "    homedf.loc[:, 'rollxgmean'] = homedf['teamxgoals'].rolling(5).mean()\n",
        "    homedf.loc[:, 'rollxgstd'] = homedf['teamxgoals'].rolling(5).std()\n",
        "\n",
        "    try:\n",
        "        homepredxgoals = normal_with_nans(homedf['rollxgmean'].iloc[-1], homedf['rollxgstd'].iloc[-1])\n",
        "    except:\n",
        "        homepredxgoals = 1\n",
        "\n",
        "    awaydf.loc[:, 'rolloppoxgmean'] = awaydf['oppoxgoals'].rolling(5).mean()\n",
        "    awaydf.loc[:, 'rolloppoxgstd'] = awaydf['oppoxgoals'].rolling(5).std()\n",
        "\n",
        "    try:\n",
        "        awaypredoppoxgoals = normal_with_nans(awaydf['rolloppoxgmean'].iloc[-1], awaydf['rolloppoxgstd'].iloc[-1])\n",
        "    except:\n",
        "        awaypredoppoxgoals=1\n",
        "\n",
        "    hometoawaypredxgoals = np.mean(np.array([float(homepredxgoals),float(awaypredoppoxgoals)]))\n",
        "\n",
        "\n",
        "\n",
        "    awaydf.loc[:, 'rollxgmean'] = awaydf['teamxgoals'].rolling(5).mean()\n",
        "    awaydf.loc[:, 'rollxgstd'] = awaydf['teamxgoals'].rolling(5).std()\n",
        "\n",
        "    try:\n",
        "        awaypredxgoals = normal_with_nans(awaydf['rollxgmean'].iloc[-1], awaydf['rollxgstd'].iloc[-1])\n",
        "    except:\n",
        "        awaypredxgoals = 1\n",
        "        \n",
        "    homedf.loc[:, 'rolloppoxgmean'] = homedf['oppoxgoals'].rolling(5).mean()\n",
        "    homedf.loc[:, 'rolloppoxgstd'] = homedf['oppoxgoals'].rolling(5).std()\n",
        "\n",
        "    try:\n",
        "        homepredoppoxgoals = normal_with_nans(homedf['rolloppoxgmean'].iloc[-1], homedf['rolloppoxgstd'].iloc[-1])\n",
        "    except:\n",
        "        homepredoppoxgoals = 1\n",
        "\n",
        "    awaytohomepredxgoals = np.mean(np.array([float(awaypredxgoals), float(homepredoppoxgoals)]))\n",
        "\n",
        "\n",
        "    n_simulations = 10000\n",
        "    n_home = 0\n",
        "    n_draw = 0\n",
        "    n_away = 0\n",
        "\n",
        "    for n in range(n_simulations):\n",
        "        home_score = poisson_with_nans(hometoawaypredxgoals)\n",
        "        away_score = poisson_with_nans(awaytohomepredxgoals)\n",
        "        if home_score > away_score:\n",
        "            n_home += 1\n",
        "        elif home_score < away_score:\n",
        "            n_away += 1\n",
        "        else:\n",
        "            n_draw += 1 \n",
        "\n",
        "    return (n_home / n_simulations, n_draw / n_simulations, n_away / n_simulations)"
      ]
    },
    {
      "cell_type": "code",
      "execution_count": null,
      "metadata": {
        "id": "xdY-eyclnb4g"
      },
      "outputs": [],
      "source": [
        "def probs_game_from_id(matchid):\n",
        "    all_games = asa_client.get_games(leagues='mls')\n",
        "    homeid = all_games.loc[all_games['game_id']==matchid, 'home_team_id'].values[0]\n",
        "\n",
        "    awayid = all_games.loc[all_games['game_id']==matchid, 'away_team_id'].values[0]\n",
        "\n",
        "    date = pd.to_datetime(all_games.loc[all_games['game_id']==matchid, 'date_time_utc'].values[0])\n",
        "\n",
        "    probs_game(homeid, awayid, date)\n"
      ]
    },
    {
      "cell_type": "code",
      "execution_count": null,
      "metadata": {
        "id": "WK5985YRoM23"
      },
      "outputs": [],
      "source": [
        "def choose_result_from_id(matchid):\n",
        "    return np.random.choice(['home', 'draw', 'away'], p=probs_game_from_id(matchid))"
      ]
    },
    {
      "cell_type": "code",
      "execution_count": null,
      "metadata": {
        "colab": {
          "base_uri": "https://localhost:8080/",
          "height": 146
        },
        "id": "SjQJ7gp6qEDO",
        "outputId": "71518eff-a807-4ed2-c633-bd9ac0d4c536"
      },
      "outputs": [
        {
          "name": "stderr",
          "output_type": "stream",
          "text": [
            "/usr/local/lib/python3.7/dist-packages/pandas/core/indexing.py:1667: SettingWithCopyWarning: \n",
            "A value is trying to be set on a copy of a slice from a DataFrame.\n",
            "Try using .loc[row_indexer,col_indexer] = value instead\n",
            "\n",
            "See the caveats in the documentation: https://pandas.pydata.org/pandas-docs/stable/user_guide/indexing.html#returning-a-view-versus-a-copy\n",
            "  self.obj[key] = value\n"
          ]
        },
        {
          "data": {
            "application/vnd.google.colaboratory.intrinsic+json": {
              "type": "string"
            },
            "text/plain": [
              "'draw'"
            ]
          },
          "execution_count": 35,
          "metadata": {},
          "output_type": "execute_result"
        }
      ],
      "source": [
        "choose_result_from_id('9z5knLXjMA')"
      ]
    },
    {
      "cell_type": "code",
      "execution_count": null,
      "metadata": {
        "colab": {
          "background_save": true,
          "base_uri": "https://localhost:8080/"
        },
        "id": "Wkdc3Hn2qK-Y",
        "outputId": "f4633d67-1741-4e67-a761-2a85cf50f2f9"
      },
      "outputs": [
        {
          "name": "stderr",
          "output_type": "stream",
          "text": [
            "/usr/local/lib/python3.7/dist-packages/pandas/core/indexing.py:1667: SettingWithCopyWarning: \n",
            "A value is trying to be set on a copy of a slice from a DataFrame.\n",
            "Try using .loc[row_indexer,col_indexer] = value instead\n",
            "\n",
            "See the caveats in the documentation: https://pandas.pydata.org/pandas-docs/stable/user_guide/indexing.html#returning-a-view-versus-a-copy\n",
            "  self.obj[key] = value\n"
          ]
        }
      ],
      "source": [
        "v_choose_result_from_id = np.vectorize(choose_result_from_id)\n",
        "\n",
        "all_games = asa_client.get_games(leagues='mls')\n",
        "\n",
        "all_games.loc[:, 'projected_result'] = v_choose_result_from_id(all_games['game_id'])\n",
        "\n",
        "all_games"
      ]
    },
    {
      "cell_type": "code",
      "execution_count": null,
      "metadata": {
        "id": "RSv_q37TrRJm"
      },
      "outputs": [],
      "source": [
        "def decide_result(game_id):\n",
        "    games = asa_client.get_games(leagues='mls')\n",
        "    game = games[games['game_id']==game_id]\n",
        "    home_score = game['home_goals']\n",
        "    away_score = game['away_goals']\n",
        "\n",
        "    if home_score > away_score:\n",
        "        return 'home'\n",
        "    elif away_score > home_score:\n",
        "        return 'away'\n",
        "    else:\n",
        "        return 'draw'\n",
        "\n",
        "v_decide_result = np.vectorize(decide_result)\n",
        "\n",
        "all_games.loc[:, 'result'] = v_decide_result(all_games['game_id'])\n",
        "\n",
        "from sklearn.metrics import accuracy_score\n",
        "accuracy_score(all_games['result'], all_games['projected_result'])"
      ]
    },
    {
      "cell_type": "code",
      "execution_count": null,
      "metadata": {
        "id": "HBzM3a61u6BH"
      },
      "outputs": [],
      "source": [
        "from sklearn.metrics import confusion_matrix\n",
        "confusion_matrix(all_games['result'], all_games['projected_result'])"
      ]
    },
    {
      "cell_type": "code",
      "execution_count": null,
      "metadata": {
        "id": "q25JV9RqvXy4"
      },
      "outputs": [],
      "source": [
        ""
      ]
    }
  ],
  "metadata": {
    "colab": {
      "name": "backfitting.ipynb",
      "provenance": [],
      "authorship_tag": "ABX9TyPS8LP5WPfSIOVvybefgUm6",
      "include_colab_link": true
    },
    "kernelspec": {
      "display_name": "Python 3",
      "name": "python3"
    },
    "language_info": {
      "name": "python"
    }
  },
  "nbformat": 4,
  "nbformat_minor": 0
}