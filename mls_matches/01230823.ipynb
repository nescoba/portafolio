{
 "cells": [
  {
   "cell_type": "markdown",
   "metadata": {},
   "source": [
    "# Analyzing Home Advantage in MLS"
   ]
  },
  {
   "cell_type": "markdown",
   "metadata": {},
   "source": [
    "## Data Wrangling "
   ]
  },
  {
   "cell_type": "code",
   "execution_count": 2,
   "metadata": {},
   "outputs": [
    {
     "name": "stderr",
     "output_type": "stream",
     "text": [
      "C:\\ProgramData\\Anaconda3\\lib\\site-packages\\IPython\\core\\interactiveshell.py:3165: DtypeWarning: Columns (11,14,50,102,123,125,129,131,133,135,137,139,141,143,145,147,149,157,158,160,161,163,165,167,169,171,173,184,186,187,205,206) have mixed types.Specify dtype option on import or set low_memory=False.\n",
      "  has_raised = await self.run_ast_nodes(code_ast.body, cell_name,\n"
     ]
    },
    {
     "data": {
      "text/html": [
       "<div>\n",
       "<style scoped>\n",
       "    .dataframe tbody tr th:only-of-type {\n",
       "        vertical-align: middle;\n",
       "    }\n",
       "\n",
       "    .dataframe tbody tr th {\n",
       "        vertical-align: top;\n",
       "    }\n",
       "\n",
       "    .dataframe thead th {\n",
       "        text-align: right;\n",
       "    }\n",
       "</style>\n",
       "<table border=\"1\" class=\"dataframe\">\n",
       "  <thead>\n",
       "    <tr style=\"text-align: right;\">\n",
       "      <th></th>\n",
       "      <th>home</th>\n",
       "      <th>away</th>\n",
       "      <th>date</th>\n",
       "      <th>venue</th>\n",
       "      <th>league</th>\n",
       "      <th>part_of_competition</th>\n",
       "      <th>home_score</th>\n",
       "      <th>away_score</th>\n",
       "      <th>home_possessionPct</th>\n",
       "      <th>away_possessionPct</th>\n",
       "      <th>...</th>\n",
       "      <th>away_offsides</th>\n",
       "      <th>home_wonCorners</th>\n",
       "      <th>away_wonCorners</th>\n",
       "      <th>home_saves</th>\n",
       "      <th>away_saves</th>\n",
       "      <th>home_shots</th>\n",
       "      <th>home_shots_on_goal</th>\n",
       "      <th>away_shots</th>\n",
       "      <th>away_shots_on_goal</th>\n",
       "      <th>result</th>\n",
       "    </tr>\n",
       "  </thead>\n",
       "  <tbody>\n",
       "    <tr>\n",
       "      <th>2236</th>\n",
       "      <td>Columbus Crew SC</td>\n",
       "      <td>Toronto FC</td>\n",
       "      <td>Saturday, March 29</td>\n",
       "      <td>MAPFRE Stadium, Columbus</td>\n",
       "      <td>2008 USA Major League Soccer</td>\n",
       "      <td>Regular Season 2008</td>\n",
       "      <td>2</td>\n",
       "      <td>0</td>\n",
       "      <td>50.0</td>\n",
       "      <td>50.0</td>\n",
       "      <td>...</td>\n",
       "      <td>1.0</td>\n",
       "      <td>3.0</td>\n",
       "      <td>7.0</td>\n",
       "      <td>8.0</td>\n",
       "      <td>5.0</td>\n",
       "      <td>9</td>\n",
       "      <td>6</td>\n",
       "      <td>11</td>\n",
       "      <td>4</td>\n",
       "      <td>h</td>\n",
       "    </tr>\n",
       "    <tr>\n",
       "      <th>2237</th>\n",
       "      <td>Real Salt Lake</td>\n",
       "      <td>Chicago Fire FC</td>\n",
       "      <td>Saturday, March 29</td>\n",
       "      <td>Rice-Eccles Stadium, Salt Lake City</td>\n",
       "      <td>2008 USA Major League Soccer</td>\n",
       "      <td>Regular Season 2008</td>\n",
       "      <td>1</td>\n",
       "      <td>1</td>\n",
       "      <td>51.0</td>\n",
       "      <td>49.0</td>\n",
       "      <td>...</td>\n",
       "      <td>1.0</td>\n",
       "      <td>3.0</td>\n",
       "      <td>3.0</td>\n",
       "      <td>2.0</td>\n",
       "      <td>6.0</td>\n",
       "      <td>14</td>\n",
       "      <td>7</td>\n",
       "      <td>6</td>\n",
       "      <td>1</td>\n",
       "      <td>d</td>\n",
       "    </tr>\n",
       "    <tr>\n",
       "      <th>2238</th>\n",
       "      <td>Sporting Kansas City</td>\n",
       "      <td>DC United</td>\n",
       "      <td>Saturday, March 29</td>\n",
       "      <td>Community America Ballpark</td>\n",
       "      <td>2008 USA Major League Soccer</td>\n",
       "      <td>Regular Season 2008</td>\n",
       "      <td>2</td>\n",
       "      <td>0</td>\n",
       "      <td>50.0</td>\n",
       "      <td>50.0</td>\n",
       "      <td>...</td>\n",
       "      <td>2.0</td>\n",
       "      <td>2.0</td>\n",
       "      <td>6.0</td>\n",
       "      <td>3.0</td>\n",
       "      <td>1.0</td>\n",
       "      <td>7</td>\n",
       "      <td>3</td>\n",
       "      <td>4</td>\n",
       "      <td>3</td>\n",
       "      <td>h</td>\n",
       "    </tr>\n",
       "    <tr>\n",
       "      <th>2239</th>\n",
       "      <td>New England Revolution</td>\n",
       "      <td>Houston Dynamo</td>\n",
       "      <td>Saturday, March 29</td>\n",
       "      <td>Gillette Stadium</td>\n",
       "      <td>2008 USA Major League Soccer</td>\n",
       "      <td>Regular Season 2008</td>\n",
       "      <td>3</td>\n",
       "      <td>0</td>\n",
       "      <td>48.0</td>\n",
       "      <td>52.0</td>\n",
       "      <td>...</td>\n",
       "      <td>1.0</td>\n",
       "      <td>4.0</td>\n",
       "      <td>5.0</td>\n",
       "      <td>5.0</td>\n",
       "      <td>8.0</td>\n",
       "      <td>12</td>\n",
       "      <td>8</td>\n",
       "      <td>15</td>\n",
       "      <td>3</td>\n",
       "      <td>h</td>\n",
       "    </tr>\n",
       "    <tr>\n",
       "      <th>2240</th>\n",
       "      <td>Colorado Rapids</td>\n",
       "      <td>LA Galaxy</td>\n",
       "      <td>Saturday, March 29</td>\n",
       "      <td>Dick's Sporting Goods Park, Denver</td>\n",
       "      <td>2008 USA Major League Soccer</td>\n",
       "      <td>Regular Season 2008</td>\n",
       "      <td>4</td>\n",
       "      <td>0</td>\n",
       "      <td>52.0</td>\n",
       "      <td>48.0</td>\n",
       "      <td>...</td>\n",
       "      <td>4.0</td>\n",
       "      <td>5.0</td>\n",
       "      <td>3.0</td>\n",
       "      <td>9.0</td>\n",
       "      <td>3.0</td>\n",
       "      <td>11</td>\n",
       "      <td>4</td>\n",
       "      <td>5</td>\n",
       "      <td>5</td>\n",
       "      <td>h</td>\n",
       "    </tr>\n",
       "  </tbody>\n",
       "</table>\n",
       "<p>5 rows × 27 columns</p>\n",
       "</div>"
      ],
      "text/plain": [
       "                        home             away                date  \\\n",
       "2236        Columbus Crew SC       Toronto FC  Saturday, March 29   \n",
       "2237          Real Salt Lake  Chicago Fire FC  Saturday, March 29   \n",
       "2238    Sporting Kansas City        DC United  Saturday, March 29   \n",
       "2239  New England Revolution   Houston Dynamo  Saturday, March 29   \n",
       "2240         Colorado Rapids        LA Galaxy  Saturday, March 29   \n",
       "\n",
       "                                    venue                        league  \\\n",
       "2236             MAPFRE Stadium, Columbus  2008 USA Major League Soccer   \n",
       "2237  Rice-Eccles Stadium, Salt Lake City  2008 USA Major League Soccer   \n",
       "2238           Community America Ballpark  2008 USA Major League Soccer   \n",
       "2239                     Gillette Stadium  2008 USA Major League Soccer   \n",
       "2240   Dick's Sporting Goods Park, Denver  2008 USA Major League Soccer   \n",
       "\n",
       "       part_of_competition  home_score  away_score  home_possessionPct  \\\n",
       "2236   Regular Season 2008           2           0                50.0   \n",
       "2237   Regular Season 2008           1           1                51.0   \n",
       "2238   Regular Season 2008           2           0                50.0   \n",
       "2239   Regular Season 2008           3           0                48.0   \n",
       "2240   Regular Season 2008           4           0                52.0   \n",
       "\n",
       "      away_possessionPct  ...  away_offsides  home_wonCorners  \\\n",
       "2236                50.0  ...            1.0              3.0   \n",
       "2237                49.0  ...            1.0              3.0   \n",
       "2238                50.0  ...            2.0              2.0   \n",
       "2239                52.0  ...            1.0              4.0   \n",
       "2240                48.0  ...            4.0              5.0   \n",
       "\n",
       "      away_wonCorners  home_saves  away_saves  home_shots  home_shots_on_goal  \\\n",
       "2236              7.0         8.0         5.0           9                   6   \n",
       "2237              3.0         2.0         6.0          14                   7   \n",
       "2238              6.0         3.0         1.0           7                   3   \n",
       "2239              5.0         5.0         8.0          12                   8   \n",
       "2240              3.0         9.0         3.0          11                   4   \n",
       "\n",
       "      away_shots  away_shots_on_goal  result  \n",
       "2236          11                   4       h  \n",
       "2237           6                   1       d  \n",
       "2238           4                   3       h  \n",
       "2239          15                   3       h  \n",
       "2240           5                   5       h  \n",
       "\n",
       "[5 rows x 27 columns]"
      ]
     },
     "execution_count": 2,
     "metadata": {},
     "output_type": "execute_result"
    }
   ],
   "source": [
    "import numpy as np \n",
    "import pandas as pd\n",
    "import matplotlib.pyplot as plt\n",
    "import seaborn as sns\n",
    "\n",
    "%matplotlib inline \n",
    "sns.set()\n",
    "\n",
    "df = pd.read_csv('matches.csv')\n",
    "\n",
    "list_of_columns = [\n",
    " 'home',\n",
    " 'away',\n",
    " 'date',\n",
    " 'venue',\n",
    " 'league',\n",
    " 'part_of_competition',\n",
    " 'home_score',\n",
    " 'away_score',\n",
    " 'home_possessionPct',\n",
    " 'away_possessionPct',\n",
    " 'home_shotsSummary',\n",
    " 'away_shotsSummary',\n",
    " 'home_foulsCommitted',\n",
    " 'away_foulsCommitted',\n",
    " 'home_yellowCards',\n",
    " 'away_yellowCards',\n",
    " 'home_redCards',\n",
    " 'away_redCards',\n",
    " 'home_offsides',\n",
    " 'away_offsides',\n",
    " 'home_wonCorners',\n",
    " 'away_wonCorners',\n",
    " 'home_saves',\n",
    " 'away_saves'\n",
    "]\n",
    "\n",
    "df = df.loc[:, list_of_columns]\n",
    "\n",
    "df = df.dropna()\n",
    "\n",
    "# unpacking shot summaries \n",
    "def shots(shot_summary):\n",
    "    interm_string = shot_summary.strip(')')\n",
    "    entries = interm_string.split('(')\n",
    "    return int(entries[0])\n",
    "\n",
    "def shots_on_goal(shot_summary):\n",
    "    interm_string = shot_summary.strip(')')\n",
    "    entries = interm_string.split('(')\n",
    "    return int(entries[1])\n",
    "\n",
    "df['home_shots'] = df['home_shotsSummary'].apply(shots)\n",
    "df['home_shots_on_goal'] = df['home_shotsSummary'].apply(shots_on_goal)\n",
    "df = df.drop('home_shotsSummary', axis=1)\n",
    "\n",
    "df['away_shots'] = df['away_shotsSummary'].apply(shots)\n",
    "df['away_shots_on_goal'] = df['away_shotsSummary'].apply(shots_on_goal)\n",
    "df = df.drop('away_shotsSummary', axis=1)\n",
    "\n",
    "\n",
    "\n",
    "# Creating result column\n",
    "def decide_victory(home, away):\n",
    "    if home > away:\n",
    "        return 'h'\n",
    "    elif home < away:\n",
    "        return 'a'\n",
    "    else:\n",
    "        return 'd'\n",
    "\n",
    "f_decide_victory = np.vectorize(decide_victory)\n",
    "\n",
    "df['result'] = f_decide_victory(df['home_score'], df['away_score'])\n",
    "\n",
    "\n",
    "\n",
    "# Formatting the percentages columns \n",
    "def strip_perc_symbol(perc):\n",
    "    return float(perc.strip('%'))\n",
    "\n",
    "df['home_possessionPct'] = df['home_possessionPct'].apply(strip_perc_symbol)\n",
    "df['away_possessionPct'] = df['away_possessionPct'].apply(strip_perc_symbol)\n",
    "\n",
    "df.head()\n",
    "\n"
   ]
  },
  {
   "cell_type": "markdown",
   "metadata": {},
   "source": [
    "## Some Comparisons "
   ]
  },
  {
   "cell_type": "code",
   "execution_count": 3,
   "metadata": {},
   "outputs": [
    {
     "name": "stderr",
     "output_type": "stream",
     "text": [
      "<ipython-input-3-2b768e1e04c9>:3: UserWarning: FixedFormatter should only be used together with FixedLocator\n",
      "  ax.set_xticklabels([\"Home Victory\", 'Draw', 'Away Victory'])\n"
     ]
    },
    {
     "data": {
      "text/plain": [
       "Text(0.5, 1.0, 'Results')"
      ]
     },
     "execution_count": 3,
     "metadata": {},
     "output_type": "execute_result"
    },
    {
     "data": {
      "image/png": "[encoded data removed]",
      "text/plain": [
       "<Figure size 432x288 with 1 Axes>"
      ]
     },
     "metadata": {},
     "output_type": "display_data"
    }
   ],
   "source": [
    "fig, ax = plt.subplots()\n",
    "ax.hist(df['result'], align='mid')\n",
    "ax.set_xticklabels([\"Home Victory\", 'Draw', 'Away Victory'])\n",
    "ax.set_title('Results')"
   ]
  },
  {
   "cell_type": "code",
   "execution_count": 5,
   "metadata": {},
   "outputs": [
    {
     "data": {
      "text/plain": [
       "<matplotlib.legend.Legend at 0x25417a51a00>"
      ]
     },
     "execution_count": 5,
     "metadata": {},
     "output_type": "execute_result"
    },
    {
     "data": {
      "image/png": "[encoded data removed]",
      "text/plain": [
       "<Figure size 432x288 with 1 Axes>"
      ]
     },
     "metadata": {},
     "output_type": "display_data"
    }
   ],
   "source": [
    "df_restr = df[(df['away_possessionPct'] != 0) & (df['home_possessionPct']!=0)]\n",
    "plt.hist(df_restr['home_possessionPct'], label=\"Home\", bins = 30, alpha=0.3)\n",
    "plt.hist(df_restr['away_possessionPct'], label='Away', bins=30, alpha=0.3)\n",
    "plt.title(\"Compared Histograms of posession\")\n",
    "plt.xlabel(\"Posession Pctg\")\n",
    "plt.ylabel(\"Counts\")\n",
    "plt.legend()"
   ]
  },
  {
   "cell_type": "code",
   "execution_count": 6,
   "metadata": {},
   "outputs": [
    {
     "data": {
      "text/plain": [
       "<matplotlib.legend.Legend at 0x25418209550>"
      ]
     },
     "execution_count": 6,
     "metadata": {},
     "output_type": "execute_result"
    },
    {
     "data": {
      "image/png": "[encoded data removed]",
      "text/plain": [
       "<Figure size 432x288 with 1 Axes>"
      ]
     },
     "metadata": {},
     "output_type": "display_data"
    }
   ],
   "source": [
    "plt.hist(df_restr['home_wonCorners'], label=\"Home\", bins = 30, alpha=0.3)\n",
    "plt.hist(df_restr['away_wonCorners'], label='Away', bins=30, alpha=0.3)\n",
    "plt.title(\"Compared Histograms of Corners\")\n",
    "plt.xlabel(\"Corners\")\n",
    "plt.ylabel(\"Counts\")\n",
    "plt.legend()"
   ]
  },
  {
   "cell_type": "code",
   "execution_count": 7,
   "metadata": {},
   "outputs": [
    {
     "data": {
      "text/plain": [
       "<matplotlib.legend.Legend at 0x25417c2fac0>"
      ]
     },
     "execution_count": 7,
     "metadata": {},
     "output_type": "execute_result"
    },
    {
     "data": {
      "image/png": "[encoded data removed]",
      "text/plain": [
       "<Figure size 432x288 with 1 Axes>"
      ]
     },
     "metadata": {},
     "output_type": "display_data"
    }
   ],
   "source": [
    "plt.hist(df_restr['home_shots'], label=\"Home\", bins = 30, alpha=0.3)\n",
    "plt.hist(df_restr['away_shots'], label='Away', bins=30, alpha=0.3)\n",
    "plt.title(\"Compared Histograms of Shots\")\n",
    "plt.xlabel(\"Shots\")\n",
    "plt.ylabel(\"Counts\")\n",
    "plt.legend()"
   ]
  },
  {
   "cell_type": "code",
   "execution_count": null,
   "metadata": {},
   "outputs": [],
   "source": []
  }
 ],
 "metadata": {
  "interpreter": {
   "hash": "b3ba2566441a7c06988d0923437866b63cedc61552a5af99d1f4fb67d367b25f"
  },
  "kernelspec": {
   "display_name": "Python 3.8.8 64-bit ('base': conda)",
   "language": "python",
   "name": "python3"
  },
  "language_info": {
   "codemirror_mode": {
    "name": "ipython",
    "version": 3
   },
   "file_extension": ".py",
   "mimetype": "text/x-python",
   "name": "python",
   "nbconvert_exporter": "python",
   "pygments_lexer": "ipython3",
   "version": "3.8.8"
  },
  "orig_nbformat": 4
 },
 "nbformat": 4,
 "nbformat_minor": 2
}
