{
 "cells": [
  {
   "cell_type": "markdown",
   "metadata": {},
   "source": [
    "# A Regression of Home Scoring for MLS data "
   ]
  },
  {
   "cell_type": "markdown",
   "metadata": {},
   "source": [
    "## Data Wrangling "
   ]
  },
  {
   "cell_type": "code",
   "execution_count": 1,
   "metadata": {},
   "outputs": [
    {
     "name": "stderr",
     "output_type": "stream",
     "text": [
      "C:\\ProgramData\\Anaconda3\\lib\\site-packages\\IPython\\core\\interactiveshell.py:3165: DtypeWarning: Columns (11,14,50,102,123,125,129,131,133,135,137,139,141,143,145,147,149,157,158,160,161,163,165,167,169,171,173,184,186,187,205,206) have mixed types.Specify dtype option on import or set low_memory=False.\n",
      "  has_raised = await self.run_ast_nodes(code_ast.body, cell_name,\n",
      "<ipython-input-1-1cf7c6f3a3bf>:69: SettingWithCopyWarning: \n",
      "A value is trying to be set on a copy of a slice from a DataFrame.\n",
      "Try using .loc[row_indexer,col_indexer] = value instead\n",
      "\n",
      "See the caveats in the documentation: https://pandas.pydata.org/pandas-docs/stable/user_guide/indexing.html#returning-a-view-versus-a-copy\n",
      "  df_restr['home_shots_cat'] = pd.cut(df_restr['home_shots'], bins=[-1, 10, 20, np.inf], labels=['low', 'medium', 'high'])\n"
     ]
    }
   ],
   "source": [
    "import numpy as np \n",
    "import pandas as pd\n",
    "import seaborn as sns\n",
    "\n",
    "%matplotlib inline \n",
    "sns.set()\n",
    "\n",
    "\n",
    "df = pd.read_csv('matches.csv')\n",
    "\n",
    "list_of_columns = [\n",
    " 'league',\n",
    " 'home_score',\n",
    " 'home_possessionPct',\n",
    " 'away_possessionPct',\n",
    " 'home_shotsSummary',\n",
    " 'away_shotsSummary',\n",
    " 'home_foulsCommitted',\n",
    " 'away_foulsCommitted',\n",
    " 'home_yellowCards',\n",
    " 'away_yellowCards',\n",
    " 'home_redCards',\n",
    " 'away_redCards',\n",
    " 'home_offsides',\n",
    " 'away_offsides',\n",
    " 'home_wonCorners',\n",
    " 'away_wonCorners',\n",
    " 'home_saves',\n",
    " 'away_saves'\n",
    "]\n",
    "\n",
    "df = df.loc[:, list_of_columns]\n",
    "\n",
    "df = df.dropna()\n",
    "\n",
    "# unpacking shot summaries \n",
    "def shots(shot_summary):\n",
    "    interm_string = shot_summary.strip(')')\n",
    "    entries = interm_string.split('(')\n",
    "    return int(entries[0])\n",
    "\n",
    "def shots_on_goal(shot_summary):\n",
    "    interm_string = shot_summary.strip(')')\n",
    "    entries = interm_string.split('(')\n",
    "    return int(entries[1])\n",
    "\n",
    "df['home_shots'] = df['home_shotsSummary'].apply(shots)\n",
    "df['home_shots_on_goal'] = df['home_shotsSummary'].apply(shots_on_goal)\n",
    "df = df.drop('home_shotsSummary', axis=1)\n",
    "\n",
    "df['away_shots'] = df['away_shotsSummary'].apply(shots)\n",
    "df['away_shots_on_goal'] = df['away_shotsSummary'].apply(shots_on_goal)\n",
    "df = df.drop('away_shotsSummary', axis=1)\n",
    "\n",
    "\n",
    "# Formatting the percentages columns \n",
    "def strip_perc_symbol(perc):\n",
    "    return float(perc.strip('%'))\n",
    "\n",
    "df['home_possessionPct'] = df['home_possessionPct'].apply(strip_perc_symbol)\n",
    "df['away_possessionPct'] = df['away_possessionPct'].apply(strip_perc_symbol)\n",
    "\n",
    "\n",
    "# Creating train and test sets \n",
    "\n",
    "from sklearn.model_selection import StratifiedShuffleSplit\n",
    "\n",
    "df_restr = df[(df['away_possessionPct'] != 0) & (df['home_possessionPct']!=0)]\n",
    "\n",
    "df_restr['home_shots_cat'] = pd.cut(df_restr['home_shots'], bins=[-1, 10, 20, np.inf], labels=['low', 'medium', 'high'])\n",
    "\n",
    "split = StratifiedShuffleSplit(n_splits=1, test_size=0.2, random_state=0)\n",
    "for train_index, test_index in split.split(df_restr, df_restr[\"home_shots_cat\"]):\n",
    "    strat_train_set = df_restr.iloc[train_index]\n",
    "    strat_test_set = df_restr.iloc[test_index]\n",
    "\n",
    "matches = strat_train_set.copy()\n",
    "matches.drop(['home_shots_cat', 'home_score'], axis=1, inplace=True)\n",
    "\n",
    "\n",
    "\n",
    "\n",
    "matches_num = matches.drop('league', axis=1)\n",
    "matches_labels = strat_train_set['home_score'].copy()\n",
    "\n",
    "\n",
    "\n",
    "# Making Transformers and Pipelines \n",
    "\n",
    "def safe_quotient(x,y):\n",
    "    if y != 0:\n",
    "        return x/y \n",
    "    else:\n",
    "        return 0 \n",
    "\n",
    "f_safe_quotient = np.vectorize(safe_quotient)\n",
    "\n",
    "\n",
    "\n",
    "from sklearn.base import BaseEstimator, TransformerMixin\n",
    "\n",
    "home_shots_on_goal_ix = -3\n",
    "home_shots_ix = -4\n",
    "away_shots_on_goal_ix = -1\n",
    "away_shots_ix = -2\n",
    "class CombinedAttributesAdder(BaseEstimator, TransformerMixin):\n",
    "    def __init__(self, add_accuracy=True):\n",
    "        self.add_accuracy = add_accuracy\n",
    "    def fit(self, X, y=None):\n",
    "        return self\n",
    "    def transform(self, X):\n",
    "        home_accuracy = f_safe_quotient(X[:, home_shots_on_goal_ix], X[:, home_shots_ix])\n",
    "        away_accuracy = f_safe_quotient(X[:, away_shots_on_goal_ix], X[:, away_shots_ix])\n",
    "        if self.add_accuracy:\n",
    "            return np.c_[X, home_accuracy, away_accuracy]\n",
    "        else:\n",
    "            return X\n",
    "\n",
    "\n",
    "\n",
    "\n",
    "from sklearn.pipeline import Pipeline \n",
    "from sklearn.preprocessing import StandardScaler\n",
    "from sklearn.impute import SimpleImputer \n",
    "\n",
    "num_pipeline = Pipeline([\n",
    "    ('inputer', SimpleImputer(strategy='median')),\n",
    "    ('attribs_adder', CombinedAttributesAdder()), \n",
    "    ('std_scaler', StandardScaler())\n",
    "])\n",
    "\n",
    "\n",
    "\n",
    "from sklearn.compose import ColumnTransformer\n",
    "from sklearn.preprocessing import OneHotEncoder\n",
    "\n",
    "num_attribs = list(matches_num)\n",
    "cat_attribs = ['league']\n",
    "\n",
    "full_pipeline = ColumnTransformer([\n",
    "    ('num', num_pipeline, num_attribs), \n",
    "    ('cat', OneHotEncoder(), cat_attribs)\n",
    "])\n",
    "\n",
    "matches_prepared = full_pipeline.fit_transform(matches)\n",
    "\n"
   ]
  },
  {
   "cell_type": "code",
   "execution_count": 2,
   "metadata": {},
   "outputs": [
    {
     "data": {
      "text/plain": [
       "LinearRegression()"
      ]
     },
     "execution_count": 2,
     "metadata": {},
     "output_type": "execute_result"
    }
   ],
   "source": [
    "from sklearn.linear_model import LinearRegression\n",
    "\n",
    "lin_reg = LinearRegression()\n",
    "lin_reg.fit(matches_prepared, matches_labels)"
   ]
  },
  {
   "cell_type": "code",
   "execution_count": 3,
   "metadata": {},
   "outputs": [
    {
     "data": {
      "text/plain": [
       "0.5247322976836689"
      ]
     },
     "execution_count": 3,
     "metadata": {},
     "output_type": "execute_result"
    }
   ],
   "source": [
    "from sklearn.metrics import mean_squared_error\n",
    "matches_predictions = lin_reg.predict(matches_prepared)\n",
    "lin_mse = mean_squared_error(matches_labels, matches_predictions)\n",
    "lin_rmse = np.sqrt(lin_mse)\n",
    "lin_rmse"
   ]
  },
  {
   "cell_type": "code",
   "execution_count": null,
   "metadata": {},
   "outputs": [],
   "source": []
  }
 ],
 "metadata": {
  "interpreter": {
   "hash": "b3ba2566441a7c06988d0923437866b63cedc61552a5af99d1f4fb67d367b25f"
  },
  "kernelspec": {
   "display_name": "Python 3.8.8 64-bit ('base': conda)",
   "language": "python",
   "name": "python3"
  },
  "language_info": {
   "codemirror_mode": {
    "name": "ipython",
    "version": 3
   },
   "file_extension": ".py",
   "mimetype": "text/x-python",
   "name": "python",
   "nbconvert_exporter": "python",
   "pygments_lexer": "ipython3",
   "version": "3.8.8"
  },
  "orig_nbformat": 4
 },
 "nbformat": 4,
 "nbformat_minor": 2
}
