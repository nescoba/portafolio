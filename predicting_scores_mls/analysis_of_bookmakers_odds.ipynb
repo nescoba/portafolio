{
  "nbformat": 4,
  "nbformat_minor": 0,
  "metadata": {
    "colab": {
      "name": "analysis_of_bookmakers_odds.ipynb",
      "provenance": [],
      "authorship_tag": "ABX9TyNah+brLYAnPl3+wAUmVQWE",
      "include_colab_link": true
    },
    "kernelspec": {
      "name": "python3",
      "display_name": "Python 3"
    },
    "language_info": {
      "name": "python"
    }
  },
  "cells": [
    {
      "cell_type": "markdown",
      "metadata": {
        "id": "view-in-github",
        "colab_type": "text"
      },
      "source": [
        "<a href=\"https://colab.research.google.com/github/nescoba/portafolio/blob/main/analysis_of_bookmakers_odds.ipynb\" target=\"_parent\"><img src=\"https://colab.research.google.com/assets/colab-badge.svg\" alt=\"Open In Colab\"/></a>"
      ]
    },
    {
      "cell_type": "code",
      "execution_count": 9,
      "metadata": {
        "id": "OmWw2i3RiN6x"
      },
      "outputs": [],
      "source": [
        "import numpy as np\n",
        "import pandas as pd \n",
        "import matplotlib.pyplot as plt\n",
        "import seaborn as sns \n",
        "\n",
        "%matplotlib inline \n",
        "\n",
        "sns.set(rc = {'figure.figsize':(15,8)})"
      ]
    },
    {
      "cell_type": "code",
      "source": [
        "data = pd.read_csv('USA.csv')\n",
        "\n",
        "data.head()"
      ],
      "metadata": {
        "colab": {
          "base_uri": "https://localhost:8080/",
          "height": 206
        },
        "id": "WgI2ryzMihSn",
        "outputId": "377855f8-109e-4314-8f85-6a1114ca74d9"
      },
      "execution_count": 2,
      "outputs": [
        {
          "output_type": "execute_result",
          "data": {
            "text/plain": [
              "  Country League  Season        Date   Time                  Home  \\\n",
              "0     USA    MLS    2012  10/03/2012  23:00       Colorado Rapids   \n",
              "1     USA    MLS    2012  10/03/2012  23:00   Vancouver Whitecaps   \n",
              "2     USA    MLS    2012  11/03/2012  00:30             DC United   \n",
              "3     USA    MLS    2012  11/03/2012  03:30    Los Angeles Galaxy   \n",
              "4     USA    MLS    2012  11/03/2012  03:30  San Jose Earthquakes   \n",
              "\n",
              "                     Away  HG  AG Res    PH    PD    PA  MaxH  MaxD  MaxA  \\\n",
              "0           Columbus Crew   2   0   H  2.06  3.40  4.11  2.13  3.40  4.11   \n",
              "1   Club de Foot Montreal   2   0   H  2.04  3.44  4.11  2.04  3.44  4.11   \n",
              "2    Sporting Kansas City   0   1   A  2.57  3.31  3.04  2.60  3.60  3.04   \n",
              "3          Real Salt Lake   1   3   A  1.88  3.57  4.88  1.89  3.57  5.00   \n",
              "4  New England Revolution   1   0   H  1.83  3.65  4.95  1.91  3.68  5.00   \n",
              "\n",
              "   AvgH  AvgD  AvgA  \n",
              "0  2.01  3.19  3.65  \n",
              "1  1.97  3.27  3.70  \n",
              "2  2.46  3.11  2.81  \n",
              "3  1.81  3.33  4.31  \n",
              "4  1.82  3.36  4.23  "
            ],
            "text/html": [
              "\n",
              "  <div id=\"df-02617213-ba7b-426f-98cc-7f304e57cbed\">\n",
              "    <div class=\"colab-df-container\">\n",
              "      <div>\n",
              "<style scoped>\n",
              "    .dataframe tbody tr th:only-of-type {\n",
              "        vertical-align: middle;\n",
              "    }\n",
              "\n",
              "    .dataframe tbody tr th {\n",
              "        vertical-align: top;\n",
              "    }\n",
              "\n",
              "    .dataframe thead th {\n",
              "        text-align: right;\n",
              "    }\n",
              "</style>\n",
              "<table border=\"1\" class=\"dataframe\">\n",
              "  <thead>\n",
              "    <tr style=\"text-align: right;\">\n",
              "      <th></th>\n",
              "      <th>Country</th>\n",
              "      <th>League</th>\n",
              "      <th>Season</th>\n",
              "      <th>Date</th>\n",
              "      <th>Time</th>\n",
              "      <th>Home</th>\n",
              "      <th>Away</th>\n",
              "      <th>HG</th>\n",
              "      <th>AG</th>\n",
              "      <th>Res</th>\n",
              "      <th>PH</th>\n",
              "      <th>PD</th>\n",
              "      <th>PA</th>\n",
              "      <th>MaxH</th>\n",
              "      <th>MaxD</th>\n",
              "      <th>MaxA</th>\n",
              "      <th>AvgH</th>\n",
              "      <th>AvgD</th>\n",
              "      <th>AvgA</th>\n",
              "    </tr>\n",
              "  </thead>\n",
              "  <tbody>\n",
              "    <tr>\n",
              "      <th>0</th>\n",
              "      <td>USA</td>\n",
              "      <td>MLS</td>\n",
              "      <td>2012</td>\n",
              "      <td>10/03/2012</td>\n",
              "      <td>23:00</td>\n",
              "      <td>Colorado Rapids</td>\n",
              "      <td>Columbus Crew</td>\n",
              "      <td>2</td>\n",
              "      <td>0</td>\n",
              "      <td>H</td>\n",
              "      <td>2.06</td>\n",
              "      <td>3.40</td>\n",
              "      <td>4.11</td>\n",
              "      <td>2.13</td>\n",
              "      <td>3.40</td>\n",
              "      <td>4.11</td>\n",
              "      <td>2.01</td>\n",
              "      <td>3.19</td>\n",
              "      <td>3.65</td>\n",
              "    </tr>\n",
              "    <tr>\n",
              "      <th>1</th>\n",
              "      <td>USA</td>\n",
              "      <td>MLS</td>\n",
              "      <td>2012</td>\n",
              "      <td>10/03/2012</td>\n",
              "      <td>23:00</td>\n",
              "      <td>Vancouver Whitecaps</td>\n",
              "      <td>Club de Foot Montreal</td>\n",
              "      <td>2</td>\n",
              "      <td>0</td>\n",
              "      <td>H</td>\n",
              "      <td>2.04</td>\n",
              "      <td>3.44</td>\n",
              "      <td>4.11</td>\n",
              "      <td>2.04</td>\n",
              "      <td>3.44</td>\n",
              "      <td>4.11</td>\n",
              "      <td>1.97</td>\n",
              "      <td>3.27</td>\n",
              "      <td>3.70</td>\n",
              "    </tr>\n",
              "    <tr>\n",
              "      <th>2</th>\n",
              "      <td>USA</td>\n",
              "      <td>MLS</td>\n",
              "      <td>2012</td>\n",
              "      <td>11/03/2012</td>\n",
              "      <td>00:30</td>\n",
              "      <td>DC United</td>\n",
              "      <td>Sporting Kansas City</td>\n",
              "      <td>0</td>\n",
              "      <td>1</td>\n",
              "      <td>A</td>\n",
              "      <td>2.57</td>\n",
              "      <td>3.31</td>\n",
              "      <td>3.04</td>\n",
              "      <td>2.60</td>\n",
              "      <td>3.60</td>\n",
              "      <td>3.04</td>\n",
              "      <td>2.46</td>\n",
              "      <td>3.11</td>\n",
              "      <td>2.81</td>\n",
              "    </tr>\n",
              "    <tr>\n",
              "      <th>3</th>\n",
              "      <td>USA</td>\n",
              "      <td>MLS</td>\n",
              "      <td>2012</td>\n",
              "      <td>11/03/2012</td>\n",
              "      <td>03:30</td>\n",
              "      <td>Los Angeles Galaxy</td>\n",
              "      <td>Real Salt Lake</td>\n",
              "      <td>1</td>\n",
              "      <td>3</td>\n",
              "      <td>A</td>\n",
              "      <td>1.88</td>\n",
              "      <td>3.57</td>\n",
              "      <td>4.88</td>\n",
              "      <td>1.89</td>\n",
              "      <td>3.57</td>\n",
              "      <td>5.00</td>\n",
              "      <td>1.81</td>\n",
              "      <td>3.33</td>\n",
              "      <td>4.31</td>\n",
              "    </tr>\n",
              "    <tr>\n",
              "      <th>4</th>\n",
              "      <td>USA</td>\n",
              "      <td>MLS</td>\n",
              "      <td>2012</td>\n",
              "      <td>11/03/2012</td>\n",
              "      <td>03:30</td>\n",
              "      <td>San Jose Earthquakes</td>\n",
              "      <td>New England Revolution</td>\n",
              "      <td>1</td>\n",
              "      <td>0</td>\n",
              "      <td>H</td>\n",
              "      <td>1.83</td>\n",
              "      <td>3.65</td>\n",
              "      <td>4.95</td>\n",
              "      <td>1.91</td>\n",
              "      <td>3.68</td>\n",
              "      <td>5.00</td>\n",
              "      <td>1.82</td>\n",
              "      <td>3.36</td>\n",
              "      <td>4.23</td>\n",
              "    </tr>\n",
              "  </tbody>\n",
              "</table>\n",
              "</div>\n",
              "      <button class=\"colab-df-convert\" onclick=\"convertToInteractive('df-02617213-ba7b-426f-98cc-7f304e57cbed')\"\n",
              "              title=\"Convert this dataframe to an interactive table.\"\n",
              "              style=\"display:none;\">\n",
              "        \n",
              "  <svg xmlns=\"http://www.w3.org/2000/svg\" height=\"24px\"viewBox=\"0 0 24 24\"\n",
              "       width=\"24px\">\n",
              "    <path d=\"M0 0h24v24H0V0z\" fill=\"none\"/>\n",
              "    <path d=\"M18.56 5.44l.94 2.06.94-2.06 2.06-.94-2.06-.94-.94-2.06-.94 2.06-2.06.94zm-11 1L8.5 8.5l.94-2.06 2.06-.94-2.06-.94L8.5 2.5l-.94 2.06-2.06.94zm10 10l.94 2.06.94-2.06 2.06-.94-2.06-.94-.94-2.06-.94 2.06-2.06.94z\"/><path d=\"M17.41 7.96l-1.37-1.37c-.4-.4-.92-.59-1.43-.59-.52 0-1.04.2-1.43.59L10.3 9.45l-7.72 7.72c-.78.78-.78 2.05 0 2.83L4 21.41c.39.39.9.59 1.41.59.51 0 1.02-.2 1.41-.59l7.78-7.78 2.81-2.81c.8-.78.8-2.07 0-2.86zM5.41 20L4 18.59l7.72-7.72 1.47 1.35L5.41 20z\"/>\n",
              "  </svg>\n",
              "      </button>\n",
              "      \n",
              "  <style>\n",
              "    .colab-df-container {\n",
              "      display:flex;\n",
              "      flex-wrap:wrap;\n",
              "      gap: 12px;\n",
              "    }\n",
              "\n",
              "    .colab-df-convert {\n",
              "      background-color: #E8F0FE;\n",
              "      border: none;\n",
              "      border-radius: 50%;\n",
              "      cursor: pointer;\n",
              "      display: none;\n",
              "      fill: #1967D2;\n",
              "      height: 32px;\n",
              "      padding: 0 0 0 0;\n",
              "      width: 32px;\n",
              "    }\n",
              "\n",
              "    .colab-df-convert:hover {\n",
              "      background-color: #E2EBFA;\n",
              "      box-shadow: 0px 1px 2px rgba(60, 64, 67, 0.3), 0px 1px 3px 1px rgba(60, 64, 67, 0.15);\n",
              "      fill: #174EA6;\n",
              "    }\n",
              "\n",
              "    [theme=dark] .colab-df-convert {\n",
              "      background-color: #3B4455;\n",
              "      fill: #D2E3FC;\n",
              "    }\n",
              "\n",
              "    [theme=dark] .colab-df-convert:hover {\n",
              "      background-color: #434B5C;\n",
              "      box-shadow: 0px 1px 3px 1px rgba(0, 0, 0, 0.15);\n",
              "      filter: drop-shadow(0px 1px 2px rgba(0, 0, 0, 0.3));\n",
              "      fill: #FFFFFF;\n",
              "    }\n",
              "  </style>\n",
              "\n",
              "      <script>\n",
              "        const buttonEl =\n",
              "          document.querySelector('#df-02617213-ba7b-426f-98cc-7f304e57cbed button.colab-df-convert');\n",
              "        buttonEl.style.display =\n",
              "          google.colab.kernel.accessAllowed ? 'block' : 'none';\n",
              "\n",
              "        async function convertToInteractive(key) {\n",
              "          const element = document.querySelector('#df-02617213-ba7b-426f-98cc-7f304e57cbed');\n",
              "          const dataTable =\n",
              "            await google.colab.kernel.invokeFunction('convertToInteractive',\n",
              "                                                     [key], {});\n",
              "          if (!dataTable) return;\n",
              "\n",
              "          const docLinkHtml = 'Like what you see? Visit the ' +\n",
              "            '<a target=\"_blank\" href=https://colab.research.google.com/notebooks/data_table.ipynb>data table notebook</a>'\n",
              "            + ' to learn more about interactive tables.';\n",
              "          element.innerHTML = '';\n",
              "          dataTable['output_type'] = 'display_data';\n",
              "          await google.colab.output.renderOutput(dataTable, element);\n",
              "          const docLink = document.createElement('div');\n",
              "          docLink.innerHTML = docLinkHtml;\n",
              "          element.appendChild(docLink);\n",
              "        }\n",
              "      </script>\n",
              "    </div>\n",
              "  </div>\n",
              "  "
            ]
          },
          "metadata": {},
          "execution_count": 2
        }
      ]
    },
    {
      "cell_type": "code",
      "source": [
        "fig, axs = plt.subplots(nrows=3)\n",
        "sns.histplot(data[data['Res']=='H'], x='PH', ax=axs[0], color='green', alpha=0.3, label='H')\n",
        "sns.histplot(data[data['Res']=='H'], x='PA', ax=axs[0], color='blue', alpha=0.3, label='A')\n",
        "sns.histplot(data[data['Res']=='H'], x='PD', ax=axs[0], color='red', alpha=0.3, label='D')\n",
        "axs[0].set_xlabel('')\n",
        "axs[0].set_title('Home Team won')\n",
        "axs[0].legend()\n",
        "\n",
        "sns.histplot(data[data['Res']=='A'], x='PH', ax=axs[1], color='green', alpha=0.3)\n",
        "sns.histplot(data[data['Res']=='A'], x='PA', ax=axs[1], color='blue', alpha=0.3)\n",
        "sns.histplot(data[data['Res']=='A'], x='PD', ax=axs[1], color='red', alpha=0.3)\n",
        "axs[1].set_xlabel('')\n",
        "axs[1].set_title('Draw')\n",
        "\n",
        "sns.histplot(data[data['Res']=='D'], x='PH', ax=axs[2], color='green', alpha=0.3)\n",
        "sns.histplot(data[data['Res']=='D'], x='PA', ax=axs[2], color='blue', alpha=0.3)\n",
        "sns.histplot(data[data['Res']=='D'], x='PD', ax=axs[2], color='red', alpha=0.3)\n",
        "axs[2].set_xlabel('Odds')\n",
        "axs[2].set_title('Away team won')\n",
        "\n",
        "\n",
        "plt.tight_layout()"
      ],
      "metadata": {
        "colab": {
          "base_uri": "https://localhost:8080/",
          "height": 581
        },
        "id": "JJ8ggBAuo8wo",
        "outputId": "48dc632d-0bc0-491c-cf1a-16d4358c858f"
      },
      "execution_count": 10,
      "outputs": [
        {
          "output_type": "display_data",
          "data": {
            "text/plain": [
              "<Figure size 1080x576 with 3 Axes>"
            ],
            "image/png": "[encoded data removed]"
          },
          "metadata": {}
        }
      ]
    },
    {
      "cell_type": "markdown",
      "source": [
        "- Notice the shape of the distributions, they're very skewed to the right. How should one interpret that?\n",
        "- This is not a figure that implies a very rational behaviour on the part of the bookies. \n",
        "    - They consistently give lower odds to the home team. They even did that when the result of the games was 'A'. \n",
        "        - This suggests there is often value in betting on the away team. \n",
        "    - They basically gave the same distribution of odds to draw whether the the game resulted on 'D' or 'A', showing that they cannot tell the difference in that particular bet. \n"
      ],
      "metadata": {
        "id": "2jziozVQu24J"
      }
    },
    {
      "cell_type": "code",
      "source": [
        "fig, axs = plt.subplots(nrows=3)\n",
        "sns.histplot(data[data['Res']=='H'], x='AvgH', ax=axs[0], color='green', alpha=0.3, label='H')\n",
        "sns.histplot(data[data['Res']=='H'], x='AvgA', ax=axs[0], color='blue', alpha=0.3, label='A')\n",
        "sns.histplot(data[data['Res']=='H'], x='AvgD', ax=axs[0], color='red', alpha=0.3, label='D')\n",
        "axs[0].set_xlabel('')\n",
        "axs[0].set_title('Home Team won')\n",
        "axs[0].legend()\n",
        "\n",
        "sns.histplot(data[data['Res']=='A'], x='AvgH', ax=axs[1], color='green', alpha=0.3)\n",
        "sns.histplot(data[data['Res']=='A'], x='AvgA', ax=axs[1], color='blue', alpha=0.3)\n",
        "sns.histplot(data[data['Res']=='A'], x='AvgD', ax=axs[1], color='red', alpha=0.3)\n",
        "axs[1].set_xlabel('')\n",
        "axs[1].set_title('Draw')\n",
        "\n",
        "sns.histplot(data[data['Res']=='D'], x='AvgH', ax=axs[2], color='green', alpha=0.3)\n",
        "sns.histplot(data[data['Res']=='D'], x='AvgA', ax=axs[2], color='blue', alpha=0.3)\n",
        "sns.histplot(data[data['Res']=='D'], x='AvgD', ax=axs[2], color='red', alpha=0.3)\n",
        "axs[2].set_xlabel('Odds')\n",
        "axs[2].set_title('Away team won')\n",
        "\n",
        "\n",
        "plt.tight_layout()"
      ],
      "metadata": {
        "colab": {
          "base_uri": "https://localhost:8080/",
          "height": 581
        },
        "id": "4uHgV9cPqrmm",
        "outputId": "ddf5403a-969b-4a2e-c594-7e22fc4a491e"
      },
      "execution_count": 11,
      "outputs": [
        {
          "output_type": "display_data",
          "data": {
            "text/plain": [
              "<Figure size 1080x576 with 3 Axes>"
            ],
            "image/png": "[encoded data removed]"
          },
          "metadata": {}
        }
      ]
    },
    {
      "cell_type": "markdown",
      "source": [
        "- The average odds tell the same story. \n",
        "- Notice how the histograms are skewed right, showing the bookmaker's tendency to offer lower odds rather than higher, as it is to be expected. However, the tails are all quite heavy. When the category matches the actual result of the game, these tails correspond to very high value bets. "
      ],
      "metadata": {
        "id": "ZUTT7ZiiIcUu"
      }
    },
    {
      "cell_type": "code",
      "source": [
        "sns.histplot(data, x='Res')"
      ],
      "metadata": {
        "colab": {
          "base_uri": "https://localhost:8080/",
          "height": 520
        },
        "id": "16Bt0IcIIWao",
        "outputId": "79f33657-fc02-485f-ae23-b03e94a85a22"
      },
      "execution_count": 13,
      "outputs": [
        {
          "output_type": "execute_result",
          "data": {
            "text/plain": [
              "<matplotlib.axes._subplots.AxesSubplot at 0x7f6395ea3950>"
            ]
          },
          "metadata": {},
          "execution_count": 13
        },
        {
          "output_type": "display_data",
          "data": {
            "text/plain": [
              "<Figure size 1080x576 with 1 Axes>"
            ],
            "image/png": "[encoded data removed]"
          },
          "metadata": {}
        }
      ]
    },
    {
      "cell_type": "markdown",
      "source": [
        "- That's the elementary reason why home odds are so low: they happen almost twice as frequently as the next category. \n",
        "- Draws and Away vistories occur with almost the same frequency, against the intuition that draws should be rarer by chance. "
      ],
      "metadata": {
        "id": "K4P0iVm_LeHP"
      }
    },
    {
      "cell_type": "code",
      "source": [
        "pd.cut(data['AvgH'], 10)"
      ],
      "metadata": {
        "colab": {
          "base_uri": "https://localhost:8080/"
        },
        "id": "hIsPSy1RLan7",
        "outputId": "8f1d3433-d0f2-4a10-f59f-3991bdf3d85f"
      },
      "execution_count": 17,
      "outputs": [
        {
          "output_type": "execute_result",
          "data": {
            "text/plain": [
              "0       (1.834, 2.538]\n",
              "1       (1.834, 2.538]\n",
              "2       (1.834, 2.538]\n",
              "3       (1.123, 1.834]\n",
              "4       (1.123, 1.834]\n",
              "             ...      \n",
              "3767    (1.834, 2.538]\n",
              "3768    (3.242, 3.946]\n",
              "3769    (2.538, 3.242]\n",
              "3770    (1.123, 1.834]\n",
              "3771    (1.123, 1.834]\n",
              "Name: AvgH, Length: 3772, dtype: category\n",
              "Categories (10, interval[float64, right]): [(1.123, 1.834] < (1.834, 2.538] < (2.538, 3.242] <\n",
              "                                            (3.242, 3.946] ... (5.354, 6.058] < (6.058, 6.762] <\n",
              "                                            (6.762, 7.466] < (7.466, 8.17]]"
            ]
          },
          "metadata": {},
          "execution_count": 17
        }
      ]
    },
    {
      "cell_type": "code",
      "source": [
        "# data.loc[:, 'AvgHCat'] = pd.cut(data['AvgH'], 30)\n",
        "\n",
        "# counts = data.groupby('AvgHCat')['Res'].describe()\n",
        "\n",
        "# counts"
      ],
      "metadata": {
        "id": "eILC-V2-STXb"
      },
      "execution_count": 40,
      "outputs": []
    },
    {
      "cell_type": "code",
      "source": [
        "def implied_proba_interval(interval):\n",
        "    return 1/interval.mid\n",
        "\n",
        "v_implied_proba_interval = np.vectorize(implied_proba_interval)"
      ],
      "metadata": {
        "id": "8D6Bt7AUVl5_"
      },
      "execution_count": 25,
      "outputs": []
    },
    {
      "cell_type": "code",
      "source": [
        "# counts['impl_prob'] = v_implied_proba_interval(counts.index)\n",
        "\n",
        "# counts"
      ],
      "metadata": {
        "id": "9vX11I6GWbYD"
      },
      "execution_count": 41,
      "outputs": []
    },
    {
      "cell_type": "code",
      "source": [
        "# counts.loc[:, 'obs_probs'] = counts['freq']/counts['count']\n",
        "\n",
        "# counts"
      ],
      "metadata": {
        "id": "lgi0xebDW6IG"
      },
      "execution_count": 42,
      "outputs": []
    },
    {
      "cell_type": "markdown",
      "source": [
        ""
      ],
      "metadata": {
        "id": "DGv3JZgrXqCI"
      }
    },
    {
      "cell_type": "code",
      "source": [
        "# data.loc[:, 'AvgDCat'] = pd.cut(data['AvgD'], 30)\n",
        "\n",
        "# countsD = data.groupby('AvgDCat')['Res'].describe()\n",
        "\n",
        "# countsD['impl_prob'] = v_implied_proba_interval(countsD.index)\n",
        "\n",
        "# countsD.loc[:, 'obs_probs'] = countsD['freq']/countsD['count']\n",
        "\n",
        "# countsD\n"
      ],
      "metadata": {
        "id": "2hHtYdoqXaX1"
      },
      "execution_count": 43,
      "outputs": []
    },
    {
      "cell_type": "code",
      "source": [
        "for (interval, group) in data.groupby('AvgDCat'):\n",
        "    print( (implied_proba_interval(interval), len(group[group['Res']=='D']) / len(group)))"
      ],
      "metadata": {
        "colab": {
          "base_uri": "https://localhost:8080/",
          "height": 558
        },
        "id": "HnojPtxXY_14",
        "outputId": "d0ff40e3-4bc2-4cb8-8dea-e35dbb56155f"
      },
      "execution_count": 35,
      "outputs": [
        {
          "output_type": "stream",
          "name": "stdout",
          "text": [
            "(0.3348401138456387, 0.375)\n",
            "(0.31357792411414237, 0.2772808586762075)\n",
            "(0.29511583296443855, 0.2621359223300971)\n",
            "(0.2787456445993031, 0.25183374083129584)\n",
            "(0.2640612622128334, 0.2635814889336016)\n",
            "(0.25084660729963626, 0.2046783625730994)\n",
            "(0.2389200812328276, 0.1722488038277512)\n",
            "(0.22805017103762829, 0.2926829268292683)\n",
            "(0.2181262951248773, 0.16470588235294117)\n",
            "(0.20905194940942823, 0.2553191489361702)\n",
            "(0.20068231988761787, 0.2608695652173913)\n",
            "(0.19295706705258078, 0.14285714285714285)\n",
            "(0.185821796896776, 0.21739130434782608)\n",
            "(0.17917935853789646, 0.14285714285714285)\n",
            "(0.17299541562148604, 0.0)\n",
            "(0.16723806338322603, 0.42857142857142855)\n",
            "(0.1618384851917786, 0.0)\n",
            "(0.15677667163126127, 0.0)\n",
            "(0.15203344735841887, 0.0)\n",
            "(0.14755791648221928, 0.0)\n"
          ]
        },
        {
          "output_type": "error",
          "ename": "ZeroDivisionError",
          "evalue": "ignored",
          "traceback": [
            "\u001b[0;31m---------------------------------------------------------------------------\u001b[0m",
            "\u001b[0;31mZeroDivisionError\u001b[0m                         Traceback (most recent call last)",
            "\u001b[0;32m<ipython-input-35-4734f433cfb9>\u001b[0m in \u001b[0;36m<module>\u001b[0;34m()\u001b[0m\n\u001b[1;32m      1\u001b[0m \u001b[0;32mfor\u001b[0m \u001b[0;34m(\u001b[0m\u001b[0minterval\u001b[0m\u001b[0;34m,\u001b[0m \u001b[0mgroup\u001b[0m\u001b[0;34m)\u001b[0m \u001b[0;32min\u001b[0m \u001b[0mdata\u001b[0m\u001b[0;34m.\u001b[0m\u001b[0mgroupby\u001b[0m\u001b[0;34m(\u001b[0m\u001b[0;34m'AvgDCat'\u001b[0m\u001b[0;34m)\u001b[0m\u001b[0;34m:\u001b[0m\u001b[0;34m\u001b[0m\u001b[0;34m\u001b[0m\u001b[0m\n\u001b[0;32m----> 2\u001b[0;31m     \u001b[0mprint\u001b[0m\u001b[0;34m(\u001b[0m \u001b[0;34m(\u001b[0m\u001b[0mimplied_proba_interval\u001b[0m\u001b[0;34m(\u001b[0m\u001b[0minterval\u001b[0m\u001b[0;34m)\u001b[0m\u001b[0;34m,\u001b[0m \u001b[0mlen\u001b[0m\u001b[0;34m(\u001b[0m\u001b[0mgroup\u001b[0m\u001b[0;34m[\u001b[0m\u001b[0mgroup\u001b[0m\u001b[0;34m[\u001b[0m\u001b[0;34m'Res'\u001b[0m\u001b[0;34m]\u001b[0m\u001b[0;34m==\u001b[0m\u001b[0;34m'D'\u001b[0m\u001b[0;34m]\u001b[0m\u001b[0;34m)\u001b[0m \u001b[0;34m/\u001b[0m \u001b[0mlen\u001b[0m\u001b[0;34m(\u001b[0m\u001b[0mgroup\u001b[0m\u001b[0;34m)\u001b[0m\u001b[0;34m)\u001b[0m\u001b[0;34m)\u001b[0m\u001b[0;34m\u001b[0m\u001b[0;34m\u001b[0m\u001b[0m\n\u001b[0m",
            "\u001b[0;31mZeroDivisionError\u001b[0m: division by zero"
          ]
        }
      ]
    },
    {
      "cell_type": "code",
      "source": [
        "data.loc[:, 'AvgACat'] = pd.cut(data['AvgA'], 30)\n",
        "for (interval, group) in data.groupby('AvgACat'):\n",
        "    print( (implied_proba_interval(interval), len(group[group['Res']=='A']) / len(group)))"
      ],
      "metadata": {
        "colab": {
          "base_uri": "https://localhost:8080/",
          "height": 631
        },
        "id": "vabDF2Lqbs4r",
        "outputId": "56c77dd0-76bf-4d3a-9e26-0c833d0b7d4f"
      },
      "execution_count": 36,
      "outputs": [
        {
          "output_type": "stream",
          "name": "stdout",
          "text": [
            "(0.7527286413248024, 0.5384615384615384)\n",
            "(0.5470459518599563, 0.5137614678899083)\n",
            "(0.4310344827586207, 0.3768996960486322)\n",
            "(0.3556187766714083, 0.32094594594594594)\n",
            "(0.3026634382566586, 0.2603719599427754)\n",
            "(0.26343519494204426, 0.21428571428571427)\n",
            "(0.23320895522388058, 0.1934673366834171)\n",
            "(0.2092050209205021, 0.1574074074074074)\n",
            "(0.1896813353566009, 0.16317991631799164)\n",
            "(0.1734906315058987, 0.14201183431952663)\n",
            "(0.159846547314578, 0.12149532710280374)\n",
            "(0.14819205690574985, 0.13253012048192772)\n",
            "(0.13812154696132597, 0.09259259259259259)\n",
            "(0.12933264355923435, 0.03571428571428571)\n",
            "(0.12159533073929961, 0.14705882352941177)\n",
            "(0.11473152822395592, 0.18181818181818182)\n",
            "(0.10860121633362294, 0.0)\n",
            "(0.10309278350515465, 0.1111111111111111)\n",
            "(0.09811616954474098, 0.0)\n",
            "(0.09359790340696368, 0.16666666666666666)\n",
            "(0.08947745168217609, 0.3333333333333333)\n",
            "(0.08570449091532396, 0.0)\n",
            "(0.08223684210526316, 0.0)\n"
          ]
        },
        {
          "output_type": "error",
          "ename": "ZeroDivisionError",
          "evalue": "ignored",
          "traceback": [
            "\u001b[0;31m---------------------------------------------------------------------------\u001b[0m",
            "\u001b[0;31mZeroDivisionError\u001b[0m                         Traceback (most recent call last)",
            "\u001b[0;32m<ipython-input-36-b41a0627ac84>\u001b[0m in \u001b[0;36m<module>\u001b[0;34m()\u001b[0m\n\u001b[1;32m      1\u001b[0m \u001b[0mdata\u001b[0m\u001b[0;34m.\u001b[0m\u001b[0mloc\u001b[0m\u001b[0;34m[\u001b[0m\u001b[0;34m:\u001b[0m\u001b[0;34m,\u001b[0m \u001b[0;34m'AvgACat'\u001b[0m\u001b[0;34m]\u001b[0m \u001b[0;34m=\u001b[0m \u001b[0mpd\u001b[0m\u001b[0;34m.\u001b[0m\u001b[0mcut\u001b[0m\u001b[0;34m(\u001b[0m\u001b[0mdata\u001b[0m\u001b[0;34m[\u001b[0m\u001b[0;34m'AvgA'\u001b[0m\u001b[0;34m]\u001b[0m\u001b[0;34m,\u001b[0m \u001b[0;36m30\u001b[0m\u001b[0;34m)\u001b[0m\u001b[0;34m\u001b[0m\u001b[0;34m\u001b[0m\u001b[0m\n\u001b[1;32m      2\u001b[0m \u001b[0;32mfor\u001b[0m \u001b[0;34m(\u001b[0m\u001b[0minterval\u001b[0m\u001b[0;34m,\u001b[0m \u001b[0mgroup\u001b[0m\u001b[0;34m)\u001b[0m \u001b[0;32min\u001b[0m \u001b[0mdata\u001b[0m\u001b[0;34m.\u001b[0m\u001b[0mgroupby\u001b[0m\u001b[0;34m(\u001b[0m\u001b[0;34m'AvgACat'\u001b[0m\u001b[0;34m)\u001b[0m\u001b[0;34m:\u001b[0m\u001b[0;34m\u001b[0m\u001b[0;34m\u001b[0m\u001b[0m\n\u001b[0;32m----> 3\u001b[0;31m     \u001b[0mprint\u001b[0m\u001b[0;34m(\u001b[0m \u001b[0;34m(\u001b[0m\u001b[0mimplied_proba_interval\u001b[0m\u001b[0;34m(\u001b[0m\u001b[0minterval\u001b[0m\u001b[0;34m)\u001b[0m\u001b[0;34m,\u001b[0m \u001b[0mlen\u001b[0m\u001b[0;34m(\u001b[0m\u001b[0mgroup\u001b[0m\u001b[0;34m[\u001b[0m\u001b[0mgroup\u001b[0m\u001b[0;34m[\u001b[0m\u001b[0;34m'Res'\u001b[0m\u001b[0;34m]\u001b[0m\u001b[0;34m==\u001b[0m\u001b[0;34m'A'\u001b[0m\u001b[0;34m]\u001b[0m\u001b[0;34m)\u001b[0m \u001b[0;34m/\u001b[0m \u001b[0mlen\u001b[0m\u001b[0;34m(\u001b[0m\u001b[0mgroup\u001b[0m\u001b[0;34m)\u001b[0m\u001b[0;34m)\u001b[0m\u001b[0;34m)\u001b[0m\u001b[0;34m\u001b[0m\u001b[0;34m\u001b[0m\u001b[0m\n\u001b[0m",
            "\u001b[0;31mZeroDivisionError\u001b[0m: division by zero"
          ]
        }
      ]
    },
    {
      "cell_type": "code",
      "source": [
        "data.loc[:, 'AvgHCat'] = pd.cut(data['AvgH'], 30)\n",
        "for (interval, group) in data.groupby('AvgHCat'):\n",
        "    print( (implied_proba_interval(interval), len(group[group['Res']=='H']) / len(group)), len(group))"
      ],
      "metadata": {
        "colab": {
          "base_uri": "https://localhost:8080/",
          "height": 595
        },
        "id": "Q7VdXQ7Reltk",
        "outputId": "27f5bee1-61de-4b32-df16-b7477a9d76a8"
      },
      "execution_count": 39,
      "outputs": [
        {
          "output_type": "stream",
          "name": "stdout",
          "text": [
            "(0.8038585209003215, 0.7043478260869566) 115\n",
            "(0.6747638326585695, 0.6546489563567363) 527\n",
            "(0.5825808330905914, 0.5855745721271394) 818\n",
            "(0.5124263387138099, 0.5092105263157894) 760\n",
            "(0.4574565416285453, 0.47208931419457734) 627\n",
            "(0.41313778145011365, 0.4381720430107527) 372\n",
            "(0.3765769158350593, 0.3532110091743119) 218\n",
            "(0.3460207612456747, 0.38596491228070173) 114\n",
            "(0.3200512081933109, 0.3150684931506849) 73\n",
            "(0.2976633427593392, 0.2916666666666667) 48\n",
            "(0.2782415136338342, 0.13333333333333333) 30\n",
            "(0.26119890296460757, 0.16666666666666666) 18\n",
            "(0.2460932693490833, 0.18181818181818182) 11\n",
            "(0.23266635644485806, 0.29411764705882354) 17\n",
            "(0.22062879205736347, 0.4) 5\n",
            "(0.2097535395909806, 0.2857142857142857) 7\n",
            "(0.19992003198720512, 0.5) 2\n",
            "(0.19096724911677648, 0.0) 2\n",
            "(0.18276523805172254, 1.0) 2\n",
            "(0.17525411847178407, 0.0) 1\n",
            "(0.168335998653312, 0.0) 2\n"
          ]
        },
        {
          "output_type": "error",
          "ename": "ZeroDivisionError",
          "evalue": "ignored",
          "traceback": [
            "\u001b[0;31m---------------------------------------------------------------------------\u001b[0m",
            "\u001b[0;31mZeroDivisionError\u001b[0m                         Traceback (most recent call last)",
            "\u001b[0;32m<ipython-input-39-c31349401613>\u001b[0m in \u001b[0;36m<module>\u001b[0;34m()\u001b[0m\n\u001b[1;32m      1\u001b[0m \u001b[0mdata\u001b[0m\u001b[0;34m.\u001b[0m\u001b[0mloc\u001b[0m\u001b[0;34m[\u001b[0m\u001b[0;34m:\u001b[0m\u001b[0;34m,\u001b[0m \u001b[0;34m'AvgHCat'\u001b[0m\u001b[0;34m]\u001b[0m \u001b[0;34m=\u001b[0m \u001b[0mpd\u001b[0m\u001b[0;34m.\u001b[0m\u001b[0mcut\u001b[0m\u001b[0;34m(\u001b[0m\u001b[0mdata\u001b[0m\u001b[0;34m[\u001b[0m\u001b[0;34m'AvgH'\u001b[0m\u001b[0;34m]\u001b[0m\u001b[0;34m,\u001b[0m \u001b[0;36m30\u001b[0m\u001b[0;34m)\u001b[0m\u001b[0;34m\u001b[0m\u001b[0;34m\u001b[0m\u001b[0m\n\u001b[1;32m      2\u001b[0m \u001b[0;32mfor\u001b[0m \u001b[0;34m(\u001b[0m\u001b[0minterval\u001b[0m\u001b[0;34m,\u001b[0m \u001b[0mgroup\u001b[0m\u001b[0;34m)\u001b[0m \u001b[0;32min\u001b[0m \u001b[0mdata\u001b[0m\u001b[0;34m.\u001b[0m\u001b[0mgroupby\u001b[0m\u001b[0;34m(\u001b[0m\u001b[0;34m'AvgHCat'\u001b[0m\u001b[0;34m)\u001b[0m\u001b[0;34m:\u001b[0m\u001b[0;34m\u001b[0m\u001b[0;34m\u001b[0m\u001b[0m\n\u001b[0;32m----> 3\u001b[0;31m     \u001b[0mprint\u001b[0m\u001b[0;34m(\u001b[0m \u001b[0;34m(\u001b[0m\u001b[0mimplied_proba_interval\u001b[0m\u001b[0;34m(\u001b[0m\u001b[0minterval\u001b[0m\u001b[0;34m)\u001b[0m\u001b[0;34m,\u001b[0m \u001b[0mlen\u001b[0m\u001b[0;34m(\u001b[0m\u001b[0mgroup\u001b[0m\u001b[0;34m[\u001b[0m\u001b[0mgroup\u001b[0m\u001b[0;34m[\u001b[0m\u001b[0;34m'Res'\u001b[0m\u001b[0;34m]\u001b[0m\u001b[0;34m==\u001b[0m\u001b[0;34m'H'\u001b[0m\u001b[0;34m]\u001b[0m\u001b[0;34m)\u001b[0m \u001b[0;34m/\u001b[0m \u001b[0mlen\u001b[0m\u001b[0;34m(\u001b[0m\u001b[0mgroup\u001b[0m\u001b[0;34m)\u001b[0m\u001b[0;34m)\u001b[0m\u001b[0;34m,\u001b[0m \u001b[0mlen\u001b[0m\u001b[0;34m(\u001b[0m\u001b[0mgroup\u001b[0m\u001b[0;34m)\u001b[0m\u001b[0;34m)\u001b[0m\u001b[0;34m\u001b[0m\u001b[0;34m\u001b[0m\u001b[0m\n\u001b[0m",
            "\u001b[0;31mZeroDivisionError\u001b[0m: division by zero"
          ]
        }
      ]
    },
    {
      "cell_type": "code",
      "source": [
        ""
      ],
      "metadata": {
        "id": "4RUX-u1re2tL"
      },
      "execution_count": null,
      "outputs": []
    }
  ]
}