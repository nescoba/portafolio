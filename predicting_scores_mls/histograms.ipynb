{
  "nbformat": 4,
  "nbformat_minor": 0,
  "metadata": {
    "colab": {
      "name": "histograms.ipynb",
      "provenance": [],
      "authorship_tag": "ABX9TyMa6w1oQ+l7Pj14jz7FoB3R",
      "include_colab_link": true
    },
    "kernelspec": {
      "name": "python3",
      "display_name": "Python 3"
    },
    "language_info": {
      "name": "python"
    }
  },
  "cells": [
    {
      "cell_type": "markdown",
      "metadata": {
        "id": "view-in-github",
        "colab_type": "text"
      },
      "source": [
        "<a href=\"https://colab.research.google.com/github/nescoba/portafolio/blob/main/histograms.ipynb\" target=\"_parent\"><img src=\"https://colab.research.google.com/assets/colab-badge.svg\" alt=\"Open In Colab\"/></a>"
      ]
    },
    {
      "cell_type": "code",
      "execution_count": 1,
      "metadata": {
        "id": "HaDpzrYIe1Q4"
      },
      "outputs": [],
      "source": [
        "import numpy as np\n",
        "import pandas as pd \n",
        "import matplotlib.pyplot as plt \n",
        "import seaborn as sns \n",
        "\n",
        "%matplotlib inline \n",
        "sns.set()"
      ]
    },
    {
      "cell_type": "code",
      "source": [
        "# pip install itscalledsoccer"
      ],
      "metadata": {
        "id": "fsXnyb10fIdP"
      },
      "execution_count": 2,
      "outputs": []
    },
    {
      "cell_type": "code",
      "source": [
        "from itscalledsoccer.client import AmericanSoccerAnalysis\n",
        "\n",
        "asa_client = AmericanSoccerAnalysis()\n",
        "\n",
        "all_games = asa_client.get_game_xgoals(leagues='mls')\n",
        "all_games"
      ],
      "metadata": {
        "colab": {
          "base_uri": "https://localhost:8080/",
          "height": 772
        },
        "id": "B7y-fGy9fTEv",
        "outputId": "c2deae46-b874-4124-8f5b-b35de56da3df"
      },
      "execution_count": 3,
      "outputs": [
        {
          "output_type": "stream",
          "name": "stdout",
          "text": [
            "Gathering all players\n",
            "Gathering all teams\n",
            "Gathering all stadia\n",
            "Gathering all managers\n",
            "Gathering all referees\n",
            "Finished initializing client\n"
          ]
        },
        {
          "output_type": "execute_result",
          "data": {
            "text/html": [
              "\n",
              "  <div id=\"df-c7ebe637-d6c9-4b49-8dae-8273ee5a52ab\">\n",
              "    <div class=\"colab-df-container\">\n",
              "      <div>\n",
              "<style scoped>\n",
              "    .dataframe tbody tr th:only-of-type {\n",
              "        vertical-align: middle;\n",
              "    }\n",
              "\n",
              "    .dataframe tbody tr th {\n",
              "        vertical-align: top;\n",
              "    }\n",
              "\n",
              "    .dataframe thead th {\n",
              "        text-align: right;\n",
              "    }\n",
              "</style>\n",
              "<table border=\"1\" class=\"dataframe\">\n",
              "  <thead>\n",
              "    <tr style=\"text-align: right;\">\n",
              "      <th></th>\n",
              "      <th>game_id</th>\n",
              "      <th>date_time_utc</th>\n",
              "      <th>home_team_id</th>\n",
              "      <th>home_goals</th>\n",
              "      <th>home_team_xgoals</th>\n",
              "      <th>home_player_xgoals</th>\n",
              "      <th>away_team_id</th>\n",
              "      <th>away_goals</th>\n",
              "      <th>away_team_xgoals</th>\n",
              "      <th>away_player_xgoals</th>\n",
              "      <th>goal_difference</th>\n",
              "      <th>team_xgoal_difference</th>\n",
              "      <th>player_xgoal_difference</th>\n",
              "      <th>final_score_difference</th>\n",
              "      <th>home_xpoints</th>\n",
              "      <th>away_xpoints</th>\n",
              "    </tr>\n",
              "  </thead>\n",
              "  <tbody>\n",
              "    <tr>\n",
              "      <th>0</th>\n",
              "      <td>315VVxG959</td>\n",
              "      <td>2022-03-07 03:00:00 UTC</td>\n",
              "      <td>eVq3ya6MWO</td>\n",
              "      <td>1</td>\n",
              "      <td>2.0164</td>\n",
              "      <td>2.0325</td>\n",
              "      <td>WBLMvYAQxe</td>\n",
              "      <td>1</td>\n",
              "      <td>0.6936</td>\n",
              "      <td>0.7077</td>\n",
              "      <td>0</td>\n",
              "      <td>1.3228</td>\n",
              "      <td>1.3248</td>\n",
              "      <td>0</td>\n",
              "      <td>2.376</td>\n",
              "      <td>0.450</td>\n",
              "    </tr>\n",
              "    <tr>\n",
              "      <th>1</th>\n",
              "      <td>9z5knLXjMA</td>\n",
              "      <td>2022-03-06 21:00:00 UTC</td>\n",
              "      <td>gpMOLwl5zy</td>\n",
              "      <td>5</td>\n",
              "      <td>1.5478</td>\n",
              "      <td>1.5478</td>\n",
              "      <td>zeQZkL1MKw</td>\n",
              "      <td>1</td>\n",
              "      <td>0.7589</td>\n",
              "      <td>0.7589</td>\n",
              "      <td>4</td>\n",
              "      <td>0.7890</td>\n",
              "      <td>0.7890</td>\n",
              "      <td>4</td>\n",
              "      <td>2.077</td>\n",
              "      <td>0.658</td>\n",
              "    </tr>\n",
              "    <tr>\n",
              "      <th>2</th>\n",
              "      <td>KAqBD3KBMb</td>\n",
              "      <td>2022-03-06 00:30:00 UTC</td>\n",
              "      <td>NPqxKXZ59d</td>\n",
              "      <td>0</td>\n",
              "      <td>0.5933</td>\n",
              "      <td>0.5972</td>\n",
              "      <td>kaDQ0wRqEv</td>\n",
              "      <td>1</td>\n",
              "      <td>2.0362</td>\n",
              "      <td>2.0927</td>\n",
              "      <td>-1</td>\n",
              "      <td>-1.4430</td>\n",
              "      <td>-1.4955</td>\n",
              "      <td>-1</td>\n",
              "      <td>0.386</td>\n",
              "      <td>2.429</td>\n",
              "    </tr>\n",
              "    <tr>\n",
              "      <th>3</th>\n",
              "      <td>e7Mz8VGGqr</td>\n",
              "      <td>2022-03-05 23:00:00 UTC</td>\n",
              "      <td>kRQand1MKZ</td>\n",
              "      <td>1</td>\n",
              "      <td>1.9970</td>\n",
              "      <td>2.0404</td>\n",
              "      <td>vzqoOgNqap</td>\n",
              "      <td>1</td>\n",
              "      <td>1.5937</td>\n",
              "      <td>1.6087</td>\n",
              "      <td>0</td>\n",
              "      <td>0.4032</td>\n",
              "      <td>0.4318</td>\n",
              "      <td>0</td>\n",
              "      <td>1.709</td>\n",
              "      <td>1.028</td>\n",
              "    </tr>\n",
              "    <tr>\n",
              "      <th>4</th>\n",
              "      <td>eVq3gvKVqW</td>\n",
              "      <td>2022-03-05 23:00:00 UTC</td>\n",
              "      <td>a2lqR4JMr0</td>\n",
              "      <td>1</td>\n",
              "      <td>2.3887</td>\n",
              "      <td>2.6652</td>\n",
              "      <td>jYQJ19EqGR</td>\n",
              "      <td>0</td>\n",
              "      <td>0.7425</td>\n",
              "      <td>0.7493</td>\n",
              "      <td>1</td>\n",
              "      <td>1.6462</td>\n",
              "      <td>1.9158</td>\n",
              "      <td>1</td>\n",
              "      <td>2.454</td>\n",
              "      <td>0.381</td>\n",
              "    </tr>\n",
              "    <tr>\n",
              "      <th>...</th>\n",
              "      <td>...</td>\n",
              "      <td>...</td>\n",
              "      <td>...</td>\n",
              "      <td>...</td>\n",
              "      <td>...</td>\n",
              "      <td>...</td>\n",
              "      <td>...</td>\n",
              "      <td>...</td>\n",
              "      <td>...</td>\n",
              "      <td>...</td>\n",
              "      <td>...</td>\n",
              "      <td>...</td>\n",
              "      <td>...</td>\n",
              "      <td>...</td>\n",
              "      <td>...</td>\n",
              "      <td>...</td>\n",
              "    </tr>\n",
              "    <tr>\n",
              "      <th>429</th>\n",
              "      <td>xW5pyO8Jqg</td>\n",
              "      <td>2013-03-03 03:30:00 UTC</td>\n",
              "      <td>jYQJ19EqGR</td>\n",
              "      <td>0</td>\n",
              "      <td>1.0252</td>\n",
              "      <td>1.0257</td>\n",
              "      <td>APk5LGOMOW</td>\n",
              "      <td>1</td>\n",
              "      <td>1.1778</td>\n",
              "      <td>1.1981</td>\n",
              "      <td>-1</td>\n",
              "      <td>-0.1526</td>\n",
              "      <td>-0.1724</td>\n",
              "      <td>-1</td>\n",
              "      <td>1.210</td>\n",
              "      <td>1.465</td>\n",
              "    </tr>\n",
              "    <tr>\n",
              "      <th>430</th>\n",
              "      <td>KPqjK3VYQ6</td>\n",
              "      <td>2013-03-03 01:30:00 UTC</td>\n",
              "      <td>mKAqBBmqbg</td>\n",
              "      <td>1</td>\n",
              "      <td>0.9218</td>\n",
              "      <td>0.9218</td>\n",
              "      <td>pzeQZ6xQKw</td>\n",
              "      <td>0</td>\n",
              "      <td>0.8044</td>\n",
              "      <td>0.8044</td>\n",
              "      <td>1</td>\n",
              "      <td>0.1174</td>\n",
              "      <td>0.1174</td>\n",
              "      <td>1</td>\n",
              "      <td>1.454</td>\n",
              "      <td>1.208</td>\n",
              "    </tr>\n",
              "    <tr>\n",
              "      <th>431</th>\n",
              "      <td>kRQaolgj5K</td>\n",
              "      <td>2013-03-03 01:00:00 UTC</td>\n",
              "      <td>YgOMngl5wN</td>\n",
              "      <td>1</td>\n",
              "      <td>2.3361</td>\n",
              "      <td>2.4023</td>\n",
              "      <td>EKXMeX3Q64</td>\n",
              "      <td>0</td>\n",
              "      <td>0.4353</td>\n",
              "      <td>0.4390</td>\n",
              "      <td>1</td>\n",
              "      <td>1.9008</td>\n",
              "      <td>1.9632</td>\n",
              "      <td>2</td>\n",
              "      <td>2.679</td>\n",
              "      <td>0.204</td>\n",
              "    </tr>\n",
              "    <tr>\n",
              "      <th>432</th>\n",
              "      <td>9vQ2ZGnmQK</td>\n",
              "      <td>2013-03-02 23:30:00 UTC</td>\n",
              "      <td>lgpMOvnQzy</td>\n",
              "      <td>1</td>\n",
              "      <td>1.0261</td>\n",
              "      <td>1.0344</td>\n",
              "      <td>kRQabn8MKZ</td>\n",
              "      <td>0</td>\n",
              "      <td>0.4172</td>\n",
              "      <td>0.4172</td>\n",
              "      <td>1</td>\n",
              "      <td>0.6089</td>\n",
              "      <td>0.6172</td>\n",
              "      <td>1</td>\n",
              "      <td>1.938</td>\n",
              "      <td>0.732</td>\n",
              "    </tr>\n",
              "    <tr>\n",
              "      <th>433</th>\n",
              "      <td>NPqxxL8Xq9</td>\n",
              "      <td>2013-03-02 21:00:00 UTC</td>\n",
              "      <td>9z5k7Yg5A3</td>\n",
              "      <td>1</td>\n",
              "      <td>1.4747</td>\n",
              "      <td>1.5192</td>\n",
              "      <td>Z2vQ1xlqrA</td>\n",
              "      <td>3</td>\n",
              "      <td>0.8818</td>\n",
              "      <td>0.9327</td>\n",
              "      <td>-2</td>\n",
              "      <td>0.5929</td>\n",
              "      <td>0.5865</td>\n",
              "      <td>-2</td>\n",
              "      <td>1.850</td>\n",
              "      <td>0.887</td>\n",
              "    </tr>\n",
              "  </tbody>\n",
              "</table>\n",
              "<p>3434 rows × 16 columns</p>\n",
              "</div>\n",
              "      <button class=\"colab-df-convert\" onclick=\"convertToInteractive('df-c7ebe637-d6c9-4b49-8dae-8273ee5a52ab')\"\n",
              "              title=\"Convert this dataframe to an interactive table.\"\n",
              "              style=\"display:none;\">\n",
              "        \n",
              "  <svg xmlns=\"http://www.w3.org/2000/svg\" height=\"24px\"viewBox=\"0 0 24 24\"\n",
              "       width=\"24px\">\n",
              "    <path d=\"M0 0h24v24H0V0z\" fill=\"none\"/>\n",
              "    <path d=\"M18.56 5.44l.94 2.06.94-2.06 2.06-.94-2.06-.94-.94-2.06-.94 2.06-2.06.94zm-11 1L8.5 8.5l.94-2.06 2.06-.94-2.06-.94L8.5 2.5l-.94 2.06-2.06.94zm10 10l.94 2.06.94-2.06 2.06-.94-2.06-.94-.94-2.06-.94 2.06-2.06.94z\"/><path d=\"M17.41 7.96l-1.37-1.37c-.4-.4-.92-.59-1.43-.59-.52 0-1.04.2-1.43.59L10.3 9.45l-7.72 7.72c-.78.78-.78 2.05 0 2.83L4 21.41c.39.39.9.59 1.41.59.51 0 1.02-.2 1.41-.59l7.78-7.78 2.81-2.81c.8-.78.8-2.07 0-2.86zM5.41 20L4 18.59l7.72-7.72 1.47 1.35L5.41 20z\"/>\n",
              "  </svg>\n",
              "      </button>\n",
              "      \n",
              "  <style>\n",
              "    .colab-df-container {\n",
              "      display:flex;\n",
              "      flex-wrap:wrap;\n",
              "      gap: 12px;\n",
              "    }\n",
              "\n",
              "    .colab-df-convert {\n",
              "      background-color: #E8F0FE;\n",
              "      border: none;\n",
              "      border-radius: 50%;\n",
              "      cursor: pointer;\n",
              "      display: none;\n",
              "      fill: #1967D2;\n",
              "      height: 32px;\n",
              "      padding: 0 0 0 0;\n",
              "      width: 32px;\n",
              "    }\n",
              "\n",
              "    .colab-df-convert:hover {\n",
              "      background-color: #E2EBFA;\n",
              "      box-shadow: 0px 1px 2px rgba(60, 64, 67, 0.3), 0px 1px 3px 1px rgba(60, 64, 67, 0.15);\n",
              "      fill: #174EA6;\n",
              "    }\n",
              "\n",
              "    [theme=dark] .colab-df-convert {\n",
              "      background-color: #3B4455;\n",
              "      fill: #D2E3FC;\n",
              "    }\n",
              "\n",
              "    [theme=dark] .colab-df-convert:hover {\n",
              "      background-color: #434B5C;\n",
              "      box-shadow: 0px 1px 3px 1px rgba(0, 0, 0, 0.15);\n",
              "      filter: drop-shadow(0px 1px 2px rgba(0, 0, 0, 0.3));\n",
              "      fill: #FFFFFF;\n",
              "    }\n",
              "  </style>\n",
              "\n",
              "      <script>\n",
              "        const buttonEl =\n",
              "          document.querySelector('#df-c7ebe637-d6c9-4b49-8dae-8273ee5a52ab button.colab-df-convert');\n",
              "        buttonEl.style.display =\n",
              "          google.colab.kernel.accessAllowed ? 'block' : 'none';\n",
              "\n",
              "        async function convertToInteractive(key) {\n",
              "          const element = document.querySelector('#df-c7ebe637-d6c9-4b49-8dae-8273ee5a52ab');\n",
              "          const dataTable =\n",
              "            await google.colab.kernel.invokeFunction('convertToInteractive',\n",
              "                                                     [key], {});\n",
              "          if (!dataTable) return;\n",
              "\n",
              "          const docLinkHtml = 'Like what you see? Visit the ' +\n",
              "            '<a target=\"_blank\" href=https://colab.research.google.com/notebooks/data_table.ipynb>data table notebook</a>'\n",
              "            + ' to learn more about interactive tables.';\n",
              "          element.innerHTML = '';\n",
              "          dataTable['output_type'] = 'display_data';\n",
              "          await google.colab.output.renderOutput(dataTable, element);\n",
              "          const docLink = document.createElement('div');\n",
              "          docLink.innerHTML = docLinkHtml;\n",
              "          element.appendChild(docLink);\n",
              "        }\n",
              "      </script>\n",
              "    </div>\n",
              "  </div>\n",
              "  "
            ],
            "text/plain": [
              "        game_id            date_time_utc home_team_id  home_goals  \\\n",
              "0    315VVxG959  2022-03-07 03:00:00 UTC   eVq3ya6MWO           1   \n",
              "1    9z5knLXjMA  2022-03-06 21:00:00 UTC   gpMOLwl5zy           5   \n",
              "2    KAqBD3KBMb  2022-03-06 00:30:00 UTC   NPqxKXZ59d           0   \n",
              "3    e7Mz8VGGqr  2022-03-05 23:00:00 UTC   kRQand1MKZ           1   \n",
              "4    eVq3gvKVqW  2022-03-05 23:00:00 UTC   a2lqR4JMr0           1   \n",
              "..          ...                      ...          ...         ...   \n",
              "429  xW5pyO8Jqg  2013-03-03 03:30:00 UTC   jYQJ19EqGR           0   \n",
              "430  KPqjK3VYQ6  2013-03-03 01:30:00 UTC   mKAqBBmqbg           1   \n",
              "431  kRQaolgj5K  2013-03-03 01:00:00 UTC   YgOMngl5wN           1   \n",
              "432  9vQ2ZGnmQK  2013-03-02 23:30:00 UTC   lgpMOvnQzy           1   \n",
              "433  NPqxxL8Xq9  2013-03-02 21:00:00 UTC   9z5k7Yg5A3           1   \n",
              "\n",
              "     home_team_xgoals  home_player_xgoals away_team_id  away_goals  \\\n",
              "0              2.0164              2.0325   WBLMvYAQxe           1   \n",
              "1              1.5478              1.5478   zeQZkL1MKw           1   \n",
              "2              0.5933              0.5972   kaDQ0wRqEv           1   \n",
              "3              1.9970              2.0404   vzqoOgNqap           1   \n",
              "4              2.3887              2.6652   jYQJ19EqGR           0   \n",
              "..                ...                 ...          ...         ...   \n",
              "429            1.0252              1.0257   APk5LGOMOW           1   \n",
              "430            0.9218              0.9218   pzeQZ6xQKw           0   \n",
              "431            2.3361              2.4023   EKXMeX3Q64           0   \n",
              "432            1.0261              1.0344   kRQabn8MKZ           0   \n",
              "433            1.4747              1.5192   Z2vQ1xlqrA           3   \n",
              "\n",
              "     away_team_xgoals  away_player_xgoals  goal_difference  \\\n",
              "0              0.6936              0.7077                0   \n",
              "1              0.7589              0.7589                4   \n",
              "2              2.0362              2.0927               -1   \n",
              "3              1.5937              1.6087                0   \n",
              "4              0.7425              0.7493                1   \n",
              "..                ...                 ...              ...   \n",
              "429            1.1778              1.1981               -1   \n",
              "430            0.8044              0.8044                1   \n",
              "431            0.4353              0.4390                1   \n",
              "432            0.4172              0.4172                1   \n",
              "433            0.8818              0.9327               -2   \n",
              "\n",
              "     team_xgoal_difference  player_xgoal_difference  final_score_difference  \\\n",
              "0                   1.3228                   1.3248                       0   \n",
              "1                   0.7890                   0.7890                       4   \n",
              "2                  -1.4430                  -1.4955                      -1   \n",
              "3                   0.4032                   0.4318                       0   \n",
              "4                   1.6462                   1.9158                       1   \n",
              "..                     ...                      ...                     ...   \n",
              "429                -0.1526                  -0.1724                      -1   \n",
              "430                 0.1174                   0.1174                       1   \n",
              "431                 1.9008                   1.9632                       2   \n",
              "432                 0.6089                   0.6172                       1   \n",
              "433                 0.5929                   0.5865                      -2   \n",
              "\n",
              "     home_xpoints  away_xpoints  \n",
              "0           2.376         0.450  \n",
              "1           2.077         0.658  \n",
              "2           0.386         2.429  \n",
              "3           1.709         1.028  \n",
              "4           2.454         0.381  \n",
              "..            ...           ...  \n",
              "429         1.210         1.465  \n",
              "430         1.454         1.208  \n",
              "431         2.679         0.204  \n",
              "432         1.938         0.732  \n",
              "433         1.850         0.887  \n",
              "\n",
              "[3434 rows x 16 columns]"
            ]
          },
          "metadata": {},
          "execution_count": 3
        }
      ]
    },
    {
      "cell_type": "code",
      "source": [
        "plt.hist(all_games['home_team_xgoals'], bins=30)"
      ],
      "metadata": {
        "colab": {
          "base_uri": "https://localhost:8080/",
          "height": 470
        },
        "id": "uv1kErT_jCAq",
        "outputId": "9691ba5b-b19f-4bac-85bc-9df4b4475a16"
      },
      "execution_count": 11,
      "outputs": [
        {
          "output_type": "execute_result",
          "data": {
            "text/plain": [
              "(array([  8.,  29.,  91., 143., 206., 239., 255., 321., 300., 290., 257.,\n",
              "        225., 219., 164., 140., 128., 117.,  78.,  51.,  46.,  32.,  36.,\n",
              "         18.,  17.,  16.,   3.,   3.,   1.,   0.,   1.]),\n",
              " array([0.        , 0.15768667, 0.31537333, 0.47306   , 0.63074667,\n",
              "        0.78843333, 0.94612   , 1.10380667, 1.26149333, 1.41918   ,\n",
              "        1.57686667, 1.73455333, 1.89224   , 2.04992667, 2.20761333,\n",
              "        2.3653    , 2.52298667, 2.68067333, 2.83836   , 2.99604667,\n",
              "        3.15373333, 3.31142   , 3.46910667, 3.62679333, 3.78448   ,\n",
              "        3.94216667, 4.09985333, 4.25754   , 4.41522667, 4.57291333,\n",
              "        4.7306    ]),\n",
              " <a list of 30 Patch objects>)"
            ]
          },
          "metadata": {},
          "execution_count": 11
        },
        {
          "output_type": "display_data",
          "data": {
            "image/png": "[encoded data removed]",
            "text/plain": [
              "<Figure size 432x288 with 1 Axes>"
            ]
          },
          "metadata": {
            "needs_background": "light"
          }
        }
      ]
    },
    {
      "cell_type": "code",
      "source": [
        "plt.hist(all_games['home_team_xgoals'], bins=[0,1,2,3,4,5,6,7])"
      ],
      "metadata": {
        "colab": {
          "base_uri": "https://localhost:8080/",
          "height": 323
        },
        "id": "VawpTyJ1jRHW",
        "outputId": "5299ed0f-6942-4320-91db-1096d2aad747"
      },
      "execution_count": 12,
      "outputs": [
        {
          "output_type": "execute_result",
          "data": {
            "text/plain": [
              "(array([ 798., 1717.,  747.,  166.,    6.,    0.,    0.]),\n",
              " array([0, 1, 2, 3, 4, 5, 6, 7]),\n",
              " <a list of 7 Patch objects>)"
            ]
          },
          "metadata": {},
          "execution_count": 12
        },
        {
          "output_type": "display_data",
          "data": {
            "image/png": "[encoded data removed]",
            "text/plain": [
              "<Figure size 432x288 with 1 Axes>"
            ]
          },
          "metadata": {
            "needs_background": "light"
          }
        }
      ]
    },
    {
      "cell_type": "code",
      "source": [
        "plt.hist(all_games['home_goals'], bins=[0,1,2,3,4,5,6,7])"
      ],
      "metadata": {
        "colab": {
          "base_uri": "https://localhost:8080/",
          "height": 323
        },
        "id": "h1FLpfYtf7s4",
        "outputId": "e2ad477c-ce56-4c32-f4ce-a71e9995be5d"
      },
      "execution_count": 5,
      "outputs": [
        {
          "output_type": "execute_result",
          "data": {
            "text/plain": [
              "(array([ 621., 1059.,  942.,  520.,  211.,   62.,   19.]),\n",
              " array([0, 1, 2, 3, 4, 5, 6, 7]),\n",
              " <a list of 7 Patch objects>)"
            ]
          },
          "metadata": {},
          "execution_count": 5
        },
        {
          "output_type": "display_data",
          "data": {
            "image/png": "[encoded data removed]",
            "text/plain": [
              "<Figure size 432x288 with 1 Axes>"
            ]
          },
          "metadata": {
            "needs_background": "light"
          }
        }
      ]
    },
    {
      "cell_type": "code",
      "source": [
        "plt.hist(np.random.exponential(all_games['home_team_xgoals']), bins=[0,1,2,3,4,5,6,7])"
      ],
      "metadata": {
        "colab": {
          "base_uri": "https://localhost:8080/",
          "height": 323
        },
        "id": "-JD19vvFiUKf",
        "outputId": "c9ffb7fe-e3e7-4d5c-8f1e-bbbf14c0490d"
      },
      "execution_count": 9,
      "outputs": [
        {
          "output_type": "execute_result",
          "data": {
            "text/plain": [
              "(array([1747.,  777.,  394.,  213.,  124.,   62.,   53.]),\n",
              " array([0, 1, 2, 3, 4, 5, 6, 7]),\n",
              " <a list of 7 Patch objects>)"
            ]
          },
          "metadata": {},
          "execution_count": 9
        },
        {
          "output_type": "display_data",
          "data": {
            "image/png": "[encoded data removed]",
            "text/plain": [
              "<Figure size 432x288 with 1 Axes>"
            ]
          },
          "metadata": {
            "needs_background": "light"
          }
        }
      ]
    },
    {
      "cell_type": "code",
      "source": [
        "plt.hist(np.random.poisson(all_games['home_team_xgoals']), bins=[0,1,2,3,4,5,6,7])"
      ],
      "metadata": {
        "colab": {
          "base_uri": "https://localhost:8080/",
          "height": 323
        },
        "id": "j3Hni-6LgeR4",
        "outputId": "c97c2e52-7514-4138-f4b0-b43a08fcba3d"
      },
      "execution_count": 6,
      "outputs": [
        {
          "output_type": "execute_result",
          "data": {
            "text/plain": [
              "(array([ 881., 1005.,  785.,  407.,  200.,   86.,   62.]),\n",
              " array([0, 1, 2, 3, 4, 5, 6, 7]),\n",
              " <a list of 7 Patch objects>)"
            ]
          },
          "metadata": {},
          "execution_count": 6
        },
        {
          "output_type": "display_data",
          "data": {
            "image/png": "[encoded data removed]",
            "text/plain": [
              "<Figure size 432x288 with 1 Axes>"
            ]
          },
          "metadata": {
            "needs_background": "light"
          }
        }
      ]
    },
    {
      "cell_type": "code",
      "source": [
        "plt.hist(all_games['away_goals'], bins=[0,1,2,3,4,5,6,7])"
      ],
      "metadata": {
        "colab": {
          "base_uri": "https://localhost:8080/",
          "height": 323
        },
        "id": "dqLycYUghn8A",
        "outputId": "5edcf155-c7c5-4806-bcfa-fe3fe0ad6c13"
      },
      "execution_count": 7,
      "outputs": [
        {
          "output_type": "execute_result",
          "data": {
            "text/plain": [
              "(array([1131., 1247.,  705.,  242.,   80.,   21.,    8.]),\n",
              " array([0, 1, 2, 3, 4, 5, 6, 7]),\n",
              " <a list of 7 Patch objects>)"
            ]
          },
          "metadata": {},
          "execution_count": 7
        },
        {
          "output_type": "display_data",
          "data": {
            "image/png": "[encoded data removed]",
            "text/plain": [
              "<Figure size 432x288 with 1 Axes>"
            ]
          },
          "metadata": {
            "needs_background": "light"
          }
        }
      ]
    },
    {
      "cell_type": "code",
      "source": [
        "plt.hist(np.random.poisson(all_games['away_team_xgoals']), bins=[0,1,2,3,4,5,6,7])"
      ],
      "metadata": {
        "colab": {
          "base_uri": "https://localhost:8080/",
          "height": 323
        },
        "id": "pVVxGbqch56H",
        "outputId": "2ae9eab2-7589-4306-8dac-ff51b207f2d5"
      },
      "execution_count": 8,
      "outputs": [
        {
          "output_type": "execute_result",
          "data": {
            "text/plain": [
              "(array([1299., 1110.,  570.,  279.,  118.,   40.,   16.]),\n",
              " array([0, 1, 2, 3, 4, 5, 6, 7]),\n",
              " <a list of 7 Patch objects>)"
            ]
          },
          "metadata": {},
          "execution_count": 8
        },
        {
          "output_type": "display_data",
          "data": {
            "image/png": "[encoded data removed]",
            "text/plain": [
              "<Figure size 432x288 with 1 Axes>"
            ]
          },
          "metadata": {
            "needs_background": "light"
          }
        }
      ]
    }
  ]
}